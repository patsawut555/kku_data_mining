{
  "nbformat": 4,
  "nbformat_minor": 0,
  "metadata": {
    "colab": {
      "name": "Untitled14.ipynb",
      "provenance": [],
      "authorship_tag": "ABX9TyPP2p0TNWcizQqASHSxoP7K",
      "include_colab_link": true
    },
    "kernelspec": {
      "name": "python3",
      "display_name": "Python 3"
    }
  },
  "cells": [
    {
      "cell_type": "markdown",
      "metadata": {
        "id": "view-in-github",
        "colab_type": "text"
      },
      "source": [
        "<a href=\"https://colab.research.google.com/github/patsawut555/kku_data_mining/blob/master/Kmean%20Clustering.ipynb\" target=\"_parent\"><img src=\"https://colab.research.google.com/assets/colab-badge.svg\" alt=\"Open In Colab\"/></a>"
      ]
    },
    {
      "cell_type": "markdown",
      "metadata": {
        "id": "8xmvctH0_oqT"
      },
      "source": [
        "# Generate Data"
      ]
    },
    {
      "cell_type": "code",
      "metadata": {
        "id": "3GCZPtYf_kKn"
      },
      "source": [
        "from sklearn.datasets import make_blobs"
      ],
      "execution_count": null,
      "outputs": []
    },
    {
      "cell_type": "code",
      "metadata": {
        "id": "04URqg4E_lR4"
      },
      "source": [
        "X, y = make_blobs(n_samples=300, centers=3, n_features=2,random_state=6)"
      ],
      "execution_count": null,
      "outputs": []
    },
    {
      "cell_type": "code",
      "metadata": {
        "id": "qy2iIrOc_lX7"
      },
      "source": [
        "X.shape"
      ],
      "execution_count": null,
      "outputs": []
    },
    {
      "cell_type": "code",
      "metadata": {
        "id": "elyjP3Xf_lbg"
      },
      "source": [
        "from matplotlib import pyplot as plt \n",
        "plt.scatter(X[:,0],X[:,1])"
      ],
      "execution_count": null,
      "outputs": []
    },
    {
      "cell_type": "markdown",
      "metadata": {
        "id": "jWTzsqLj_yIs"
      },
      "source": [
        "## Import"
      ]
    },
    {
      "cell_type": "code",
      "metadata": {
        "id": "lJ_iFXM2_len"
      },
      "source": [
        "from sklearn.cluster import KMeans"
      ],
      "execution_count": null,
      "outputs": []
    },
    {
      "cell_type": "markdown",
      "metadata": {
        "id": "FVOGNKeL_199"
      },
      "source": [
        "## Define"
      ]
    },
    {
      "cell_type": "code",
      "metadata": {
        "id": "rbp8VAbe_lj5"
      },
      "source": [
        "KMclust = KMeans(n_clusters=5)"
      ],
      "execution_count": null,
      "outputs": []
    },
    {
      "cell_type": "markdown",
      "metadata": {
        "id": "1o1PEcoa_6sO"
      },
      "source": [
        "## Train"
      ]
    },
    {
      "cell_type": "code",
      "metadata": {
        "id": "ZADVVTpz_loU"
      },
      "source": [
        "KMclust.fit(X)"
      ],
      "execution_count": null,
      "outputs": []
    },
    {
      "cell_type": "markdown",
      "metadata": {
        "id": "tgbwEfMi_-Pv"
      },
      "source": [
        "## Predict"
      ]
    },
    {
      "cell_type": "code",
      "metadata": {
        "id": "NqVSxO6U_lty"
      },
      "source": [
        "label = KMclust.predict(X)"
      ],
      "execution_count": null,
      "outputs": []
    },
    {
      "cell_type": "code",
      "metadata": {
        "id": "Hk6vo4nB_lzT"
      },
      "source": [
        "plt.scatter(X[:, 0], X[:, 1], c=label)"
      ],
      "execution_count": null,
      "outputs": []
    },
    {
      "cell_type": "markdown",
      "metadata": {
        "id": "I6W5bgLnAGyw"
      },
      "source": [
        "# Color quantization (application of kmean)"
      ]
    },
    {
      "cell_type": "code",
      "metadata": {
        "id": "qB1shaeS_l8J"
      },
      "source": [
        "from google.colab import drive\n",
        "drive.mount('/content/drive')\n",
        "\n",
        "path = '/content/drive/My Drive'"
      ],
      "execution_count": null,
      "outputs": []
    },
    {
      "cell_type": "code",
      "metadata": {
        "id": "pmZV8Y9s_mDL"
      },
      "source": [
        "import cv2\n",
        "import os"
      ],
      "execution_count": null,
      "outputs": []
    },
    {
      "cell_type": "code",
      "metadata": {
        "id": "_Ck4tWnU_mIU"
      },
      "source": [
        "img = cv2.imread(os.path.join(path,'83ba3efb63eb0ad83223a2156a567da9.jpg'))"
      ],
      "execution_count": null,
      "outputs": []
    },
    {
      "cell_type": "code",
      "metadata": {
        "id": "QQ_COlcM_mML"
      },
      "source": [
        "img"
      ],
      "execution_count": null,
      "outputs": []
    },
    {
      "cell_type": "code",
      "metadata": {
        "id": "_0aSUlBe_mQI"
      },
      "source": [
        "RGB_img = cv2.cvtColor(img, cv2.COLOR_BGR2RGB)\n",
        "plt.imshow(RGB_img)"
      ],
      "execution_count": null,
      "outputs": []
    },
    {
      "cell_type": "code",
      "metadata": {
        "id": "JO-4DUhu_lxi"
      },
      "source": [
        "RGB_img.shape"
      ],
      "execution_count": null,
      "outputs": []
    },
    {
      "cell_type": "markdown",
      "metadata": {
        "id": "fSz8DGtoAsNb"
      },
      "source": [
        "## count unique colors"
      ]
    },
    {
      "cell_type": "code",
      "metadata": {
        "id": "dZizMOqP_lsE"
      },
      "source": [
        "import numpy as np"
      ],
      "execution_count": null,
      "outputs": []
    },
    {
      "cell_type": "code",
      "metadata": {
        "id": "Qo0Wgh49_liN"
      },
      "source": [
        "np.unique(RGB_img).shape"
      ],
      "execution_count": null,
      "outputs": []
    },
    {
      "cell_type": "markdown",
      "metadata": {
        "id": "E_uhv4FdA37O"
      },
      "source": [
        "## Use K-mean to reduce color from 256 colors to 8 colors"
      ]
    },
    {
      "cell_type": "code",
      "metadata": {
        "id": "kjwZtS3EAzrx"
      },
      "source": [
        "#Define\n",
        "myQuantize = KMeans(n_clusters=8)"
      ],
      "execution_count": null,
      "outputs": []
    },
    {
      "cell_type": "code",
      "metadata": {
        "id": "A6kNksy8A0Hc"
      },
      "source": [
        "img_row = np.reshape(RGB_img,(1724*959,3))\n",
        "img_row"
      ],
      "execution_count": null,
      "outputs": []
    },
    {
      "cell_type": "code",
      "metadata": {
        "id": "ZoP15M08A0Kt"
      },
      "source": [
        "#Train\n",
        "myQuantize.fit(img_row)"
      ],
      "execution_count": null,
      "outputs": []
    },
    {
      "cell_type": "code",
      "metadata": {
        "id": "uUMVTAxVA0OE"
      },
      "source": [
        "#Predict\n",
        "res = myQuantize.predict(img_row)"
      ],
      "execution_count": null,
      "outputs": []
    },
    {
      "cell_type": "code",
      "metadata": {
        "id": "FTHZ6TiYA0Tn"
      },
      "source": [
        "res"
      ],
      "execution_count": null,
      "outputs": []
    },
    {
      "cell_type": "markdown",
      "metadata": {
        "id": "1EoCMT3zBC-x"
      },
      "source": [
        "## Get cluster centers"
      ]
    },
    {
      "cell_type": "code",
      "metadata": {
        "id": "wlN8YFTMA0qB"
      },
      "source": [
        "Clus_cen = myQuantize.cluster_centers_\n",
        "Clus_cen"
      ],
      "execution_count": null,
      "outputs": []
    },
    {
      "cell_type": "code",
      "metadata": {
        "id": "ouRt7vdjA00V"
      },
      "source": [
        "Clus_cen.shape"
      ],
      "execution_count": null,
      "outputs": []
    },
    {
      "cell_type": "markdown",
      "metadata": {
        "id": "M3hXi761BIsQ"
      },
      "source": [
        "## Map color back to the image"
      ]
    },
    {
      "cell_type": "code",
      "metadata": {
        "id": "EdztPpQyA03z"
      },
      "source": [
        "new_img = np.zeros(RGB_img.shape)\n",
        "for i in range(RGB_img.shape[0]):\n",
        "    for j in range(RGB_img.shape[1]):\n",
        "        new_img[i,j,:] = Clus_cen[myQuantize.predict([RGB_img[i,j,:]]),:]"
      ],
      "execution_count": null,
      "outputs": []
    },
    {
      "cell_type": "code",
      "metadata": {
        "id": "k1x-38sEA09q"
      },
      "source": [
        "new_img_ = new_img/255"
      ],
      "execution_count": null,
      "outputs": []
    },
    {
      "cell_type": "code",
      "metadata": {
        "id": "LSP1GUUIA07o"
      },
      "source": [
        "plt.imshow(new_img_)"
      ],
      "execution_count": null,
      "outputs": []
    },
    {
      "cell_type": "code",
      "metadata": {
        "id": "M-gxMQVmA0oE"
      },
      "source": [
        ""
      ],
      "execution_count": null,
      "outputs": []
    },
    {
      "cell_type": "code",
      "metadata": {
        "id": "5IH0k3jGA0kr"
      },
      "source": [
        ""
      ],
      "execution_count": null,
      "outputs": []
    },
    {
      "cell_type": "code",
      "metadata": {
        "id": "tKXD8V6eA0hg"
      },
      "source": [
        ""
      ],
      "execution_count": null,
      "outputs": []
    },
    {
      "cell_type": "code",
      "metadata": {
        "id": "MOj9JTCDA0es"
      },
      "source": [
        ""
      ],
      "execution_count": null,
      "outputs": []
    },
    {
      "cell_type": "code",
      "metadata": {
        "id": "gcNEcPuRA0b2"
      },
      "source": [
        ""
      ],
      "execution_count": null,
      "outputs": []
    },
    {
      "cell_type": "code",
      "metadata": {
        "id": "_AThSoKFA0Z1"
      },
      "source": [
        ""
      ],
      "execution_count": null,
      "outputs": []
    },
    {
      "cell_type": "code",
      "metadata": {
        "id": "ComVy5GdA0YM"
      },
      "source": [
        ""
      ],
      "execution_count": null,
      "outputs": []
    },
    {
      "cell_type": "code",
      "metadata": {
        "id": "D-Lm2AoAA0Rt"
      },
      "source": [
        ""
      ],
      "execution_count": null,
      "outputs": []
    }
  ]
}