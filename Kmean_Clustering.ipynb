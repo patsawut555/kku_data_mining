{
  "nbformat": 4,
  "nbformat_minor": 0,
  "metadata": {
    "colab": {
      "name": "Kmean Clustering.ipynb",
      "provenance": [],
      "authorship_tag": "ABX9TyOSDyPe1VwiRI2v6YWpTYAY",
      "include_colab_link": true
    },
    "kernelspec": {
      "name": "python3",
      "display_name": "Python 3"
    }
  },
  "cells": [
    {
      "cell_type": "markdown",
      "metadata": {
        "id": "view-in-github",
        "colab_type": "text"
      },
      "source": [
        "<a href=\"https://colab.research.google.com/github/patsawut555/kku_data_mining/blob/master/Kmean_Clustering.ipynb\" target=\"_parent\"><img src=\"https://colab.research.google.com/assets/colab-badge.svg\" alt=\"Open In Colab\"/></a>"
      ]
    },
    {
      "cell_type": "code",
      "metadata": {
        "id": "fdiBEJ7Iz2ec"
      },
      "source": [
        "from sklearn.datasets import make_blobs"
      ],
      "execution_count": null,
      "outputs": []
    },
    {
      "cell_type": "code",
      "metadata": {
        "id": "-QWJpUvYz5Jl"
      },
      "source": [
        "X, y = make_blobs(n_samples=300, centers=3, n_features=2,random_state=6)"
      ],
      "execution_count": null,
      "outputs": []
    },
    {
      "cell_type": "code",
      "metadata": {
        "id": "Yn68XA8oz5Tt"
      },
      "source": [
        "X.shape"
      ],
      "execution_count": null,
      "outputs": []
    },
    {
      "cell_type": "code",
      "metadata": {
        "id": "gPyrAEJwz5c1"
      },
      "source": [
        "from matplotlib import pyplot as plt \n",
        "plt.scatter(X[:,0],X[:,1])"
      ],
      "execution_count": null,
      "outputs": []
    },
    {
      "cell_type": "markdown",
      "metadata": {
        "id": "UEzz4nLR0D5V"
      },
      "source": [
        "## Import"
      ]
    },
    {
      "cell_type": "code",
      "metadata": {
        "id": "7ClVEOtHz5zc"
      },
      "source": [
        "from sklearn.cluster import KMeans"
      ],
      "execution_count": null,
      "outputs": []
    },
    {
      "cell_type": "markdown",
      "metadata": {
        "id": "qY2Ah21L0H-G"
      },
      "source": [
        "## Define"
      ]
    },
    {
      "cell_type": "code",
      "metadata": {
        "id": "pGqrsAKwz56m"
      },
      "source": [
        "KMclust = KMeans(n_clusters=5)"
      ],
      "execution_count": null,
      "outputs": []
    },
    {
      "cell_type": "markdown",
      "metadata": {
        "id": "mVO40far0NqQ"
      },
      "source": [
        "## Train"
      ]
    },
    {
      "cell_type": "code",
      "metadata": {
        "id": "udmSGYG8z5_m"
      },
      "source": [
        "KMclust.fit(X)"
      ],
      "execution_count": null,
      "outputs": []
    },
    {
      "cell_type": "markdown",
      "metadata": {
        "id": "RLDTUgad0Vc8"
      },
      "source": [
        "## Predict"
      ]
    },
    {
      "cell_type": "code",
      "metadata": {
        "id": "kfQC83bzz6Ck"
      },
      "source": [
        "label = KMclust.predict(X)"
      ],
      "execution_count": null,
      "outputs": []
    },
    {
      "cell_type": "code",
      "metadata": {
        "id": "q2Q9Ux5Jz6H3"
      },
      "source": [
        "plt.scatter(X[:, 0], X[:, 1], c=label)"
      ],
      "execution_count": null,
      "outputs": []
    },
    {
      "cell_type": "markdown",
      "metadata": {
        "id": "ZW9QUawM0eDe"
      },
      "source": [
        "# Color quantization (application of kmean)"
      ]
    },
    {
      "cell_type": "code",
      "metadata": {
        "id": "kwiMkdFLz6NM"
      },
      "source": [
        "from google.colab import drive\n",
        "drive.mount('/content/drive')\n",
        "\n",
        "path = '/content/drive/My Drive'"
      ],
      "execution_count": null,
      "outputs": []
    },
    {
      "cell_type": "code",
      "metadata": {
        "id": "kQs0eBOXz6QU"
      },
      "source": [
        "import cv2\n",
        "import os"
      ],
      "execution_count": null,
      "outputs": []
    },
    {
      "cell_type": "code",
      "metadata": {
        "id": "zUggrNfpz6VI"
      },
      "source": [
        "img = cv2.imread(os.path.join(path,'83ba3efb63eb0ad83223a2156a567da9.jpg'))"
      ],
      "execution_count": null,
      "outputs": []
    },
    {
      "cell_type": "code",
      "metadata": {
        "id": "7CsVrkWHz6bW"
      },
      "source": [
        "img"
      ],
      "execution_count": null,
      "outputs": []
    },
    {
      "cell_type": "code",
      "metadata": {
        "id": "fkG42KJOz6gY"
      },
      "source": [
        "RGB_img = cv2.cvtColor(img, cv2.COLOR_BGR2RGB)\n",
        "plt.imshow(RGB_img)"
      ],
      "execution_count": null,
      "outputs": []
    },
    {
      "cell_type": "code",
      "metadata": {
        "id": "9Jj22S0Tz6jO"
      },
      "source": [
        "RGB_img.shape"
      ],
      "execution_count": null,
      "outputs": []
    },
    {
      "cell_type": "markdown",
      "metadata": {
        "id": "Oy353UMM0uvG"
      },
      "source": [
        "## count unique colors"
      ]
    },
    {
      "cell_type": "code",
      "metadata": {
        "id": "_JtIhQ7ez6m0"
      },
      "source": [
        "import numpy as np"
      ],
      "execution_count": null,
      "outputs": []
    },
    {
      "cell_type": "code",
      "metadata": {
        "id": "l3sTeUnkz6rK"
      },
      "source": [
        "np.unique(np.reshape(RGB_img,(1724*959,3)),axis=0).shape"
      ],
      "execution_count": null,
      "outputs": []
    },
    {
      "cell_type": "markdown",
      "metadata": {
        "id": "oBkQzqB_00kl"
      },
      "source": [
        "## Use K-mean to reduce color from 256 colors to 8 colors"
      ]
    },
    {
      "cell_type": "code",
      "metadata": {
        "id": "79o9Nvk4z6uR"
      },
      "source": [
        "#Define\n",
        "myQuantize = KMeans(n_clusters=8)"
      ],
      "execution_count": null,
      "outputs": []
    },
    {
      "cell_type": "code",
      "metadata": {
        "id": "pEjbuvyiz63v"
      },
      "source": [
        "img_row = np.reshape(RGB_img,(1724*959,3))\n",
        "img_row"
      ],
      "execution_count": null,
      "outputs": []
    },
    {
      "cell_type": "code",
      "metadata": {
        "id": "95NAzOH7z68s"
      },
      "source": [
        "img_row.shape"
      ],
      "execution_count": null,
      "outputs": []
    },
    {
      "cell_type": "code",
      "metadata": {
        "id": "UaJYS3mRz6_r"
      },
      "source": [
        "#Train\n",
        "myQuantize.fit(img_row)"
      ],
      "execution_count": null,
      "outputs": []
    },
    {
      "cell_type": "code",
      "metadata": {
        "id": "aUm-DNojz7Fp"
      },
      "source": [
        "#Predict\n",
        "res = myQuantize.predict(img_row)"
      ],
      "execution_count": null,
      "outputs": []
    },
    {
      "cell_type": "markdown",
      "metadata": {
        "id": "Y-e88nqg0_DG"
      },
      "source": [
        "## Get cluster centers"
      ]
    },
    {
      "cell_type": "code",
      "metadata": {
        "id": "i0O3_pgDz7EG"
      },
      "source": [
        "Clus_cen = myQuantize.cluster_centers_\n",
        "Clus_cen"
      ],
      "execution_count": null,
      "outputs": []
    },
    {
      "cell_type": "code",
      "metadata": {
        "id": "y2vYTH-az6Yp"
      },
      "source": [
        "Clus_cen.shape"
      ],
      "execution_count": null,
      "outputs": []
    },
    {
      "cell_type": "markdown",
      "metadata": {
        "id": "z-mJkgBe1E39"
      },
      "source": [
        "## Map color back to the image"
      ]
    },
    {
      "cell_type": "code",
      "metadata": {
        "id": "RDw21Mdvz54X"
      },
      "source": [
        "new_img = np.zeros(RGB_img.shape)\n",
        "for i in range(RGB_img.shape[0]):\n",
        "    for j in range(RGB_img.shape[1]):\n",
        "        new_img[i,j,:] = Clus_cen[myQuantize.predict([RGB_img[i,j,:]]),:]"
      ],
      "execution_count": null,
      "outputs": []
    },
    {
      "cell_type": "code",
      "metadata": {
        "id": "mdp0S4JJ1J24"
      },
      "source": [
        "new_img_ = new_img/255"
      ],
      "execution_count": null,
      "outputs": []
    },
    {
      "cell_type": "code",
      "metadata": {
        "id": "CPrU9EVc1JxQ"
      },
      "source": [
        "plt.imshow(new_img_)"
      ],
      "execution_count": null,
      "outputs": []
    },
    {
      "cell_type": "code",
      "metadata": {
        "id": "QxOddfFp1JuR"
      },
      "source": [
        ""
      ],
      "execution_count": null,
      "outputs": []
    },
    {
      "cell_type": "code",
      "metadata": {
        "id": "lmBMIEi11Jr0"
      },
      "source": [
        ""
      ],
      "execution_count": null,
      "outputs": []
    },
    {
      "cell_type": "code",
      "metadata": {
        "id": "wFBDnKjB1Jpa"
      },
      "source": [
        ""
      ],
      "execution_count": null,
      "outputs": []
    },
    {
      "cell_type": "code",
      "metadata": {
        "id": "ZRy6uIcy1JlY"
      },
      "source": [
        ""
      ],
      "execution_count": null,
      "outputs": []
    },
    {
      "cell_type": "code",
      "metadata": {
        "id": "mEs2Rszq1Jh6"
      },
      "source": [
        ""
      ],
      "execution_count": null,
      "outputs": []
    },
    {
      "cell_type": "code",
      "metadata": {
        "id": "3UlNBveH1Jd8"
      },
      "source": [
        ""
      ],
      "execution_count": null,
      "outputs": []
    },
    {
      "cell_type": "code",
      "metadata": {
        "id": "BJoay8UH1JVf"
      },
      "source": [
        ""
      ],
      "execution_count": null,
      "outputs": []
    },
    {
      "cell_type": "code",
      "metadata": {
        "id": "8XFlaHlQ1JJO"
      },
      "source": [
        ""
      ],
      "execution_count": null,
      "outputs": []
    }
  ]
}