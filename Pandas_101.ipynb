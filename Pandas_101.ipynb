{
  "nbformat": 4,
  "nbformat_minor": 0,
  "metadata": {
    "colab": {
      "name": "Untitled2.ipynb",
      "provenance": [],
      "include_colab_link": true
    },
    "kernelspec": {
      "name": "python3",
      "display_name": "Python 3"
    }
  },
  "cells": [
    {
      "cell_type": "markdown",
      "metadata": {
        "id": "view-in-github",
        "colab_type": "text"
      },
      "source": [
        "<a href=\"https://colab.research.google.com/github/patsawut555/kku_data_mining/blob/master/Pandas_101.ipynb\" target=\"_parent\"><img src=\"https://colab.research.google.com/assets/colab-badge.svg\" alt=\"Open In Colab\"/></a>"
      ]
    },
    {
      "cell_type": "code",
      "metadata": {
        "id": "8AO3vmV3fRkv"
      },
      "source": [
        "import pandas"
      ],
      "execution_count": 21,
      "outputs": []
    },
    {
      "cell_type": "code",
      "metadata": {
        "id": "m6NsmsTEiNji",
        "outputId": "c93cb11a-63b6-4c82-db53-350ad6c83e36",
        "colab": {
          "base_uri": "https://localhost:8080/",
          "height": 34
        }
      },
      "source": [
        "from google.colab import drive\n",
        "drive.mount('/content/drive')\n",
        "\n",
        "path  ='/content/drive/My Drive/DWDM_material'"
      ],
      "execution_count": 22,
      "outputs": [
        {
          "output_type": "stream",
          "text": [
            "Drive already mounted at /content/drive; to attempt to forcibly remount, call drive.mount(\"/content/drive\", force_remount=True).\n"
          ],
          "name": "stdout"
        }
      ]
    },
    {
      "cell_type": "code",
      "metadata": {
        "id": "9gtLP821hgw6"
      },
      "source": [
        "import os"
      ],
      "execution_count": 23,
      "outputs": []
    },
    {
      "cell_type": "code",
      "metadata": {
        "id": "ks7Qp404fRww"
      },
      "source": [
        "search_click = os.path.join(path,'search_click.csv')\n",
        "w_restaurant = os.path.join(path,'w_restaurant.csv')"
      ],
      "execution_count": 24,
      "outputs": []
    },
    {
      "cell_type": "code",
      "metadata": {
        "id": "gqkeNw-ifR8_"
      },
      "source": [
        "search_click_df = pandas.read_csv(search_click)"
      ],
      "execution_count": 25,
      "outputs": []
    },
    {
      "cell_type": "code",
      "metadata": {
        "id": "tuWz-u_aiKy4"
      },
      "source": [
        ""
      ],
      "execution_count": 25,
      "outputs": []
    },
    {
      "cell_type": "code",
      "metadata": {
        "id": "ifC3JqncfSC1",
        "outputId": "6794b8c3-3303-4d80-e561-cb8d89ceb782",
        "colab": {
          "base_uri": "https://localhost:8080/",
          "height": 204
        }
      },
      "source": [
        "search_click_df.head()"
      ],
      "execution_count": 26,
      "outputs": [
        {
          "output_type": "execute_result",
          "data": {
            "text/html": [
              "<div>\n",
              "<style scoped>\n",
              "    .dataframe tbody tr th:only-of-type {\n",
              "        vertical-align: middle;\n",
              "    }\n",
              "\n",
              "    .dataframe tbody tr th {\n",
              "        vertical-align: top;\n",
              "    }\n",
              "\n",
              "    .dataframe thead th {\n",
              "        text-align: right;\n",
              "    }\n",
              "</style>\n",
              "<table border=\"1\" class=\"dataframe\">\n",
              "  <thead>\n",
              "    <tr style=\"text-align: right;\">\n",
              "      <th></th>\n",
              "      <th>click_timestamp</th>\n",
              "      <th>search_id</th>\n",
              "      <th>business_id</th>\n",
              "      <th>display_position</th>\n",
              "      <th>time_diff_nanos</th>\n",
              "      <th>ads</th>\n",
              "    </tr>\n",
              "  </thead>\n",
              "  <tbody>\n",
              "    <tr>\n",
              "      <th>0</th>\n",
              "      <td>11:38.9</td>\n",
              "      <td>5c004472-5ecc-4159-9698-9f329b8e26e1</td>\n",
              "      <td>298839.0</td>\n",
              "      <td>0</td>\n",
              "      <td>2.222400e+15</td>\n",
              "      <td>True</td>\n",
              "    </tr>\n",
              "    <tr>\n",
              "      <th>1</th>\n",
              "      <td>30:51.3</td>\n",
              "      <td>5f34eca0-c04e-4c10-b600-54aa447dbd8e</td>\n",
              "      <td>171372.0</td>\n",
              "      <td>0</td>\n",
              "      <td>4.608380e+14</td>\n",
              "      <td>True</td>\n",
              "    </tr>\n",
              "    <tr>\n",
              "      <th>2</th>\n",
              "      <td>32:09.6</td>\n",
              "      <td>8dc6d1f0-11f1-4239-9dd2-5c1674c81224</td>\n",
              "      <td>16157.0</td>\n",
              "      <td>0</td>\n",
              "      <td>2.581490e+15</td>\n",
              "      <td>True</td>\n",
              "    </tr>\n",
              "    <tr>\n",
              "      <th>3</th>\n",
              "      <td>00:59.8</td>\n",
              "      <td>1a5810e9-3d1f-44b9-9a2e-26ede21c524b</td>\n",
              "      <td>89741.0</td>\n",
              "      <td>1</td>\n",
              "      <td>1.404580e+15</td>\n",
              "      <td>True</td>\n",
              "    </tr>\n",
              "    <tr>\n",
              "      <th>4</th>\n",
              "      <td>23:36.8</td>\n",
              "      <td>6bc75e0d-fc65-471e-9926-ff6be6708639</td>\n",
              "      <td>189564.0</td>\n",
              "      <td>1</td>\n",
              "      <td>9.333590e+14</td>\n",
              "      <td>True</td>\n",
              "    </tr>\n",
              "  </tbody>\n",
              "</table>\n",
              "</div>"
            ],
            "text/plain": [
              "  click_timestamp                             search_id  ...  time_diff_nanos   ads\n",
              "0         11:38.9  5c004472-5ecc-4159-9698-9f329b8e26e1  ...     2.222400e+15  True\n",
              "1         30:51.3  5f34eca0-c04e-4c10-b600-54aa447dbd8e  ...     4.608380e+14  True\n",
              "2         32:09.6  8dc6d1f0-11f1-4239-9dd2-5c1674c81224  ...     2.581490e+15  True\n",
              "3         00:59.8  1a5810e9-3d1f-44b9-9a2e-26ede21c524b  ...     1.404580e+15  True\n",
              "4         23:36.8  6bc75e0d-fc65-471e-9926-ff6be6708639  ...     9.333590e+14  True\n",
              "\n",
              "[5 rows x 6 columns]"
            ]
          },
          "metadata": {
            "tags": []
          },
          "execution_count": 26
        }
      ]
    },
    {
      "cell_type": "code",
      "metadata": {
        "id": "Jny6GwBFfSA7"
      },
      "source": [
        "w_restaurant_df = pandas.read_csv(w_restaurant)"
      ],
      "execution_count": 27,
      "outputs": []
    },
    {
      "cell_type": "markdown",
      "metadata": {
        "id": "5PCdmSvQj7oK"
      },
      "source": [
        "To check if"
      ]
    },
    {
      "cell_type": "code",
      "metadata": {
        "id": "W37Z8RcSfR6v"
      },
      "source": [
        ""
      ],
      "execution_count": 27,
      "outputs": []
    },
    {
      "cell_type": "code",
      "metadata": {
        "id": "SXfajtOhfR5R"
      },
      "source": [
        ""
      ],
      "execution_count": 27,
      "outputs": []
    },
    {
      "cell_type": "markdown",
      "metadata": {
        "id": "tczij5qLmhws"
      },
      "source": [
        ""
      ]
    },
    {
      "cell_type": "code",
      "metadata": {
        "id": "9W9d2zXJfR3C",
        "outputId": "aebdde24-ad31-49fa-aea1-dc5a3c009c53",
        "colab": {
          "base_uri": "https://localhost:8080/",
          "height": 34
        }
      },
      "source": [
        "search_click_df['search_id'][20]"
      ],
      "execution_count": 28,
      "outputs": [
        {
          "output_type": "execute_result",
          "data": {
            "application/vnd.google.colaboratory.intrinsic+json": {
              "type": "string"
            },
            "text/plain": [
              "'0b3baa5d-1ce2-4f37-9ed2-337ccf39a81e'"
            ]
          },
          "metadata": {
            "tags": []
          },
          "execution_count": 28
        }
      ]
    },
    {
      "cell_type": "code",
      "metadata": {
        "id": "fI_wPjM1pOVJ",
        "outputId": "7511ae47-a0a4-48d3-ea4a-9e75dab28e33",
        "colab": {
          "base_uri": "https://localhost:8080/",
          "height": 419
        }
      },
      "source": [
        "w_restaurant_df[['name','city_name','weighted_average_rating']]"
      ],
      "execution_count": 29,
      "outputs": [
        {
          "output_type": "execute_result",
          "data": {
            "text/html": [
              "<div>\n",
              "<style scoped>\n",
              "    .dataframe tbody tr th:only-of-type {\n",
              "        vertical-align: middle;\n",
              "    }\n",
              "\n",
              "    .dataframe tbody tr th {\n",
              "        vertical-align: top;\n",
              "    }\n",
              "\n",
              "    .dataframe thead th {\n",
              "        text-align: right;\n",
              "    }\n",
              "</style>\n",
              "<table border=\"1\" class=\"dataframe\">\n",
              "  <thead>\n",
              "    <tr style=\"text-align: right;\">\n",
              "      <th></th>\n",
              "      <th>name</th>\n",
              "      <th>city_name</th>\n",
              "      <th>weighted_average_rating</th>\n",
              "    </tr>\n",
              "  </thead>\n",
              "  <tbody>\n",
              "    <tr>\n",
              "      <th>0</th>\n",
              "      <td>นครินทร์ทันตกรรม</td>\n",
              "      <td>Samut Songkhram</td>\n",
              "      <td>5.000000</td>\n",
              "    </tr>\n",
              "    <tr>\n",
              "      <th>1</th>\n",
              "      <td>Corner House</td>\n",
              "      <td>Bangkok Metropolitan Region</td>\n",
              "      <td>2.000000</td>\n",
              "    </tr>\n",
              "    <tr>\n",
              "      <th>2</th>\n",
              "      <td>วัดโลกยสุธาราม</td>\n",
              "      <td>Phra Nakhon Si Ayutthaya</td>\n",
              "      <td>4.000000</td>\n",
              "    </tr>\n",
              "    <tr>\n",
              "      <th>3</th>\n",
              "      <td>นันท์คาราโอเกะ</td>\n",
              "      <td>Bangkok Metropolitan Region</td>\n",
              "      <td>0.000000</td>\n",
              "    </tr>\n",
              "    <tr>\n",
              "      <th>4</th>\n",
              "      <td>Buono Caffe</td>\n",
              "      <td>Bangkok Metropolitan Region</td>\n",
              "      <td>3.738462</td>\n",
              "    </tr>\n",
              "    <tr>\n",
              "      <th>...</th>\n",
              "      <td>...</td>\n",
              "      <td>...</td>\n",
              "      <td>...</td>\n",
              "    </tr>\n",
              "    <tr>\n",
              "      <th>246842</th>\n",
              "      <td>Sushi Tama</td>\n",
              "      <td>Bangkok Metropolitan Region</td>\n",
              "      <td>3.663522</td>\n",
              "    </tr>\n",
              "    <tr>\n",
              "      <th>246843</th>\n",
              "      <td>สะบายดี คาราโอเกะ</td>\n",
              "      <td>Bangkok Metropolitan Region</td>\n",
              "      <td>0.000000</td>\n",
              "    </tr>\n",
              "    <tr>\n",
              "      <th>246844</th>\n",
              "      <td>สเต็กแม่&amp;กาแฟลูก</td>\n",
              "      <td>Bangkok Metropolitan Region</td>\n",
              "      <td>4.000000</td>\n",
              "    </tr>\n",
              "    <tr>\n",
              "      <th>246845</th>\n",
              "      <td>Mom Made</td>\n",
              "      <td>Nakhon Si Thammarat</td>\n",
              "      <td>5.000000</td>\n",
              "    </tr>\n",
              "    <tr>\n",
              "      <th>246846</th>\n",
              "      <td>ก๋วยเตี๋ยวหมูน้ำตก ก๋วยเตี๋ยวเรือทอง</td>\n",
              "      <td>Suphan Buri</td>\n",
              "      <td>3.000000</td>\n",
              "    </tr>\n",
              "  </tbody>\n",
              "</table>\n",
              "<p>246847 rows × 3 columns</p>\n",
              "</div>"
            ],
            "text/plain": [
              "                                        name  ... weighted_average_rating\n",
              "0                           นครินทร์ทันตกรรม  ...                5.000000\n",
              "1                               Corner House  ...                2.000000\n",
              "2                             วัดโลกยสุธาราม  ...                4.000000\n",
              "3                             นันท์คาราโอเกะ  ...                0.000000\n",
              "4                                Buono Caffe  ...                3.738462\n",
              "...                                      ...  ...                     ...\n",
              "246842                            Sushi Tama  ...                3.663522\n",
              "246843                     สะบายดี คาราโอเกะ  ...                0.000000\n",
              "246844                      สเต็กแม่&กาแฟลูก  ...                4.000000\n",
              "246845                              Mom Made  ...                5.000000\n",
              "246846  ก๋วยเตี๋ยวหมูน้ำตก ก๋วยเตี๋ยวเรือทอง  ...                3.000000\n",
              "\n",
              "[246847 rows x 3 columns]"
            ]
          },
          "metadata": {
            "tags": []
          },
          "execution_count": 29
        }
      ]
    },
    {
      "cell_type": "code",
      "metadata": {
        "id": "nPScWIAlrCJ5"
      },
      "source": [
        ""
      ],
      "execution_count": 29,
      "outputs": []
    },
    {
      "cell_type": "markdown",
      "metadata": {
        "id": "zzZjBC0InQB1"
      },
      "source": [
        "##.iloc"
      ]
    },
    {
      "cell_type": "code",
      "metadata": {
        "id": "LXa0lTH_oL08",
        "outputId": "2553b7c1-5880-41fc-9b17-840d7f7a8c9f",
        "colab": {
          "base_uri": "https://localhost:8080/",
          "height": 0
        }
      },
      "source": [
        "search_click_df.iloc[0,1]"
      ],
      "execution_count": 30,
      "outputs": [
        {
          "output_type": "execute_result",
          "data": {
            "application/vnd.google.colaboratory.intrinsic+json": {
              "type": "string"
            },
            "text/plain": [
              "'5c004472-5ecc-4159-9698-9f329b8e26e1'"
            ]
          },
          "metadata": {
            "tags": []
          },
          "execution_count": 30
        }
      ]
    },
    {
      "cell_type": "code",
      "metadata": {
        "id": "KixsyJjgfRuJ",
        "outputId": "4a21f3e6-f07a-42aa-8a51-0a9826a83a70",
        "colab": {
          "base_uri": "https://localhost:8080/",
          "height": 0
        }
      },
      "source": [
        "search_click_df.iloc[:10,:2]"
      ],
      "execution_count": 31,
      "outputs": [
        {
          "output_type": "execute_result",
          "data": {
            "text/html": [
              "<div>\n",
              "<style scoped>\n",
              "    .dataframe tbody tr th:only-of-type {\n",
              "        vertical-align: middle;\n",
              "    }\n",
              "\n",
              "    .dataframe tbody tr th {\n",
              "        vertical-align: top;\n",
              "    }\n",
              "\n",
              "    .dataframe thead th {\n",
              "        text-align: right;\n",
              "    }\n",
              "</style>\n",
              "<table border=\"1\" class=\"dataframe\">\n",
              "  <thead>\n",
              "    <tr style=\"text-align: right;\">\n",
              "      <th></th>\n",
              "      <th>click_timestamp</th>\n",
              "      <th>search_id</th>\n",
              "    </tr>\n",
              "  </thead>\n",
              "  <tbody>\n",
              "    <tr>\n",
              "      <th>0</th>\n",
              "      <td>11:38.9</td>\n",
              "      <td>5c004472-5ecc-4159-9698-9f329b8e26e1</td>\n",
              "    </tr>\n",
              "    <tr>\n",
              "      <th>1</th>\n",
              "      <td>30:51.3</td>\n",
              "      <td>5f34eca0-c04e-4c10-b600-54aa447dbd8e</td>\n",
              "    </tr>\n",
              "    <tr>\n",
              "      <th>2</th>\n",
              "      <td>32:09.6</td>\n",
              "      <td>8dc6d1f0-11f1-4239-9dd2-5c1674c81224</td>\n",
              "    </tr>\n",
              "    <tr>\n",
              "      <th>3</th>\n",
              "      <td>00:59.8</td>\n",
              "      <td>1a5810e9-3d1f-44b9-9a2e-26ede21c524b</td>\n",
              "    </tr>\n",
              "    <tr>\n",
              "      <th>4</th>\n",
              "      <td>23:36.8</td>\n",
              "      <td>6bc75e0d-fc65-471e-9926-ff6be6708639</td>\n",
              "    </tr>\n",
              "    <tr>\n",
              "      <th>5</th>\n",
              "      <td>48:16.7</td>\n",
              "      <td>92ea02ba-2c89-4efd-973c-e23526c531de</td>\n",
              "    </tr>\n",
              "    <tr>\n",
              "      <th>6</th>\n",
              "      <td>39:18.4</td>\n",
              "      <td>79d61918-fb3e-4181-99b6-7a7abddfcdb1</td>\n",
              "    </tr>\n",
              "    <tr>\n",
              "      <th>7</th>\n",
              "      <td>33:39.0</td>\n",
              "      <td>7f8b2b57-dea1-4fe1-84c8-5a7d63750e47</td>\n",
              "    </tr>\n",
              "    <tr>\n",
              "      <th>8</th>\n",
              "      <td>07:48.3</td>\n",
              "      <td>3d9217bb-3eae-42b5-8cf3-a756efae2cfa</td>\n",
              "    </tr>\n",
              "    <tr>\n",
              "      <th>9</th>\n",
              "      <td>41:25.4</td>\n",
              "      <td>a2cb0d41-6e1f-4169-9140-cb671fbb41dc</td>\n",
              "    </tr>\n",
              "  </tbody>\n",
              "</table>\n",
              "</div>"
            ],
            "text/plain": [
              "  click_timestamp                             search_id\n",
              "0         11:38.9  5c004472-5ecc-4159-9698-9f329b8e26e1\n",
              "1         30:51.3  5f34eca0-c04e-4c10-b600-54aa447dbd8e\n",
              "2         32:09.6  8dc6d1f0-11f1-4239-9dd2-5c1674c81224\n",
              "3         00:59.8  1a5810e9-3d1f-44b9-9a2e-26ede21c524b\n",
              "4         23:36.8  6bc75e0d-fc65-471e-9926-ff6be6708639\n",
              "5         48:16.7  92ea02ba-2c89-4efd-973c-e23526c531de\n",
              "6         39:18.4  79d61918-fb3e-4181-99b6-7a7abddfcdb1\n",
              "7         33:39.0  7f8b2b57-dea1-4fe1-84c8-5a7d63750e47\n",
              "8         07:48.3  3d9217bb-3eae-42b5-8cf3-a756efae2cfa\n",
              "9         41:25.4  a2cb0d41-6e1f-4169-9140-cb671fbb41dc"
            ]
          },
          "metadata": {
            "tags": []
          },
          "execution_count": 31
        }
      ]
    },
    {
      "cell_type": "markdown",
      "metadata": {
        "id": "eI5FNda7nY8c"
      },
      "source": [
        "#Missing Value"
      ]
    },
    {
      "cell_type": "code",
      "metadata": {
        "id": "2N98maqXfRoi",
        "outputId": "96a6945b-2853-4f32-8ff2-ca01ff8e6abb",
        "colab": {
          "base_uri": "https://localhost:8080/",
          "height": 419
        }
      },
      "source": [
        "search_click_df.isnull()"
      ],
      "execution_count": 32,
      "outputs": [
        {
          "output_type": "execute_result",
          "data": {
            "text/html": [
              "<div>\n",
              "<style scoped>\n",
              "    .dataframe tbody tr th:only-of-type {\n",
              "        vertical-align: middle;\n",
              "    }\n",
              "\n",
              "    .dataframe tbody tr th {\n",
              "        vertical-align: top;\n",
              "    }\n",
              "\n",
              "    .dataframe thead th {\n",
              "        text-align: right;\n",
              "    }\n",
              "</style>\n",
              "<table border=\"1\" class=\"dataframe\">\n",
              "  <thead>\n",
              "    <tr style=\"text-align: right;\">\n",
              "      <th></th>\n",
              "      <th>click_timestamp</th>\n",
              "      <th>search_id</th>\n",
              "      <th>business_id</th>\n",
              "      <th>display_position</th>\n",
              "      <th>time_diff_nanos</th>\n",
              "      <th>ads</th>\n",
              "    </tr>\n",
              "  </thead>\n",
              "  <tbody>\n",
              "    <tr>\n",
              "      <th>0</th>\n",
              "      <td>False</td>\n",
              "      <td>False</td>\n",
              "      <td>False</td>\n",
              "      <td>False</td>\n",
              "      <td>False</td>\n",
              "      <td>False</td>\n",
              "    </tr>\n",
              "    <tr>\n",
              "      <th>1</th>\n",
              "      <td>False</td>\n",
              "      <td>False</td>\n",
              "      <td>False</td>\n",
              "      <td>False</td>\n",
              "      <td>False</td>\n",
              "      <td>False</td>\n",
              "    </tr>\n",
              "    <tr>\n",
              "      <th>2</th>\n",
              "      <td>False</td>\n",
              "      <td>False</td>\n",
              "      <td>False</td>\n",
              "      <td>False</td>\n",
              "      <td>False</td>\n",
              "      <td>False</td>\n",
              "    </tr>\n",
              "    <tr>\n",
              "      <th>3</th>\n",
              "      <td>False</td>\n",
              "      <td>False</td>\n",
              "      <td>False</td>\n",
              "      <td>False</td>\n",
              "      <td>False</td>\n",
              "      <td>False</td>\n",
              "    </tr>\n",
              "    <tr>\n",
              "      <th>4</th>\n",
              "      <td>False</td>\n",
              "      <td>False</td>\n",
              "      <td>False</td>\n",
              "      <td>False</td>\n",
              "      <td>False</td>\n",
              "      <td>False</td>\n",
              "    </tr>\n",
              "    <tr>\n",
              "      <th>...</th>\n",
              "      <td>...</td>\n",
              "      <td>...</td>\n",
              "      <td>...</td>\n",
              "      <td>...</td>\n",
              "      <td>...</td>\n",
              "      <td>...</td>\n",
              "    </tr>\n",
              "    <tr>\n",
              "      <th>1048570</th>\n",
              "      <td>False</td>\n",
              "      <td>False</td>\n",
              "      <td>False</td>\n",
              "      <td>False</td>\n",
              "      <td>False</td>\n",
              "      <td>False</td>\n",
              "    </tr>\n",
              "    <tr>\n",
              "      <th>1048571</th>\n",
              "      <td>False</td>\n",
              "      <td>False</td>\n",
              "      <td>False</td>\n",
              "      <td>False</td>\n",
              "      <td>False</td>\n",
              "      <td>False</td>\n",
              "    </tr>\n",
              "    <tr>\n",
              "      <th>1048572</th>\n",
              "      <td>False</td>\n",
              "      <td>False</td>\n",
              "      <td>False</td>\n",
              "      <td>False</td>\n",
              "      <td>False</td>\n",
              "      <td>False</td>\n",
              "    </tr>\n",
              "    <tr>\n",
              "      <th>1048573</th>\n",
              "      <td>False</td>\n",
              "      <td>False</td>\n",
              "      <td>False</td>\n",
              "      <td>False</td>\n",
              "      <td>False</td>\n",
              "      <td>False</td>\n",
              "    </tr>\n",
              "    <tr>\n",
              "      <th>1048574</th>\n",
              "      <td>False</td>\n",
              "      <td>False</td>\n",
              "      <td>False</td>\n",
              "      <td>False</td>\n",
              "      <td>False</td>\n",
              "      <td>False</td>\n",
              "    </tr>\n",
              "  </tbody>\n",
              "</table>\n",
              "<p>1048575 rows × 6 columns</p>\n",
              "</div>"
            ],
            "text/plain": [
              "         click_timestamp  search_id  ...  time_diff_nanos    ads\n",
              "0                  False      False  ...            False  False\n",
              "1                  False      False  ...            False  False\n",
              "2                  False      False  ...            False  False\n",
              "3                  False      False  ...            False  False\n",
              "4                  False      False  ...            False  False\n",
              "...                  ...        ...  ...              ...    ...\n",
              "1048570            False      False  ...            False  False\n",
              "1048571            False      False  ...            False  False\n",
              "1048572            False      False  ...            False  False\n",
              "1048573            False      False  ...            False  False\n",
              "1048574            False      False  ...            False  False\n",
              "\n",
              "[1048575 rows x 6 columns]"
            ]
          },
          "metadata": {
            "tags": []
          },
          "execution_count": 32
        }
      ]
    },
    {
      "cell_type": "code",
      "metadata": {
        "id": "VOnlMCatty6S"
      },
      "source": [
        "search_click_df_nm = search_click_df .dropna()"
      ],
      "execution_count": 33,
      "outputs": []
    },
    {
      "cell_type": "code",
      "metadata": {
        "id": "j1NKXiL9rY-B",
        "outputId": "37d161d1-4715-4548-a525-d78508ac33f8",
        "colab": {
          "base_uri": "https://localhost:8080/",
          "height": 136
        }
      },
      "source": [
        "search_click_df.isnull().any()"
      ],
      "execution_count": 34,
      "outputs": [
        {
          "output_type": "execute_result",
          "data": {
            "text/plain": [
              "click_timestamp     False\n",
              "search_id            True\n",
              "business_id          True\n",
              "display_position    False\n",
              "time_diff_nanos     False\n",
              "ads                 False\n",
              "dtype: bool"
            ]
          },
          "metadata": {
            "tags": []
          },
          "execution_count": 34
        }
      ]
    },
    {
      "cell_type": "code",
      "metadata": {
        "id": "GPlxNkwUrZH3",
        "outputId": "5ce12d85-1a15-4b00-9513-853dd0046a27",
        "colab": {
          "base_uri": "https://localhost:8080/",
          "height": 51
        }
      },
      "source": [
        "print(search_click_df.shape)\n",
        "print(search_click_df_nm.shape)"
      ],
      "execution_count": 35,
      "outputs": [
        {
          "output_type": "stream",
          "text": [
            "(1048575, 6)\n",
            "(1048206, 6)\n"
          ],
          "name": "stdout"
        }
      ]
    },
    {
      "cell_type": "markdown",
      "metadata": {
        "id": "fbZiPQWFuPjO"
      },
      "source": [
        "##Excercise 1 ตรวจสอบว่า การลบข้อมูล missing ออก จากตาราง w_restaurant จะทำให้ข้อมูลลดลงกั้%"
      ]
    },
    {
      "cell_type": "code",
      "metadata": {
        "id": "RHEkwZ3rrZPL",
        "outputId": "e114c5f0-dbf0-41a8-f550-0159f0f581b5",
        "colab": {
          "base_uri": "https://localhost:8080/",
          "height": 68
        }
      },
      "source": [
        "size_before_drop = w_restaurant_df.shape[0]\n",
        "size_after_drop = w_restaurant_df.dropna().shape[0]\n",
        "\n",
        "print(f'size before drop = {size_before_drop} \\nsize after drop = {size_after_drop} \\\n",
        "    \\nwhich is {100*((size_before_drop-size_after_drop)/size_before_drop)}')"
      ],
      "execution_count": 37,
      "outputs": [
        {
          "output_type": "stream",
          "text": [
            "size before drop = 246847 \n",
            "size after drop = 4     \n",
            "which is 99.99837956304918\n"
          ],
          "name": "stdout"
        }
      ]
    },
    {
      "cell_type": "code",
      "metadata": {
        "id": "2k5sojPErZa5",
        "outputId": "adcf8a5c-cc33-481f-b2f2-754abde5fa6a",
        "colab": {
          "base_uri": "https://localhost:8080/",
          "height": 578
        }
      },
      "source": [
        "w_restaurant_df.isnull().any()"
      ],
      "execution_count": 38,
      "outputs": [
        {
          "output_type": "execute_result",
          "data": {
            "text/plain": [
              "id                         False\n",
              "name                       False\n",
              "domain_id                  False\n",
              "closed                     False\n",
              "city_name                  False\n",
              "zipcode                     True\n",
              "geohash                    False\n",
              "new_open                   False\n",
              "weighted_average_rating    False\n",
              "number_of_chains            True\n",
              "number_of_bookmarks         True\n",
              "number_of_reviews          False\n",
              "number_of_product_tags     False\n",
              "total_number_of_views      False\n",
              "number_of_checkins         False\n",
              "number_of_menu_groups      False\n",
              "number_of_menu_photos      False\n",
              "category_name              False\n",
              "price_range                 True\n",
              "avg_price                   True\n",
              "parking                     True\n",
              "credit_card_accepted        True\n",
              "good_for_groups             True\n",
              "good_for_kids               True\n",
              "bookable                    True\n",
              "best_of_wongnai             True\n",
              "wifi                        True\n",
              "number_of_seats             True\n",
              "music_venue                 True\n",
              "hotel_restaurant            True\n",
              "pet_friendly                True\n",
              "delivery                    True\n",
              "dtype: bool"
            ]
          },
          "metadata": {
            "tags": []
          },
          "execution_count": 38
        }
      ]
    },
    {
      "cell_type": "code",
      "metadata": {
        "id": "u3IkPPeurZY9",
        "outputId": "d12987e6-ae9a-48a4-a288-a958bb3f193b",
        "colab": {
          "base_uri": "https://localhost:8080/",
          "height": 34
        }
      },
      "source": [
        "w_restaurant_df.dropna(subset=['id','name','price_range']).shape"
      ],
      "execution_count": 39,
      "outputs": [
        {
          "output_type": "execute_result",
          "data": {
            "text/plain": [
              "(180972, 32)"
            ]
          },
          "metadata": {
            "tags": []
          },
          "execution_count": 39
        }
      ]
    },
    {
      "cell_type": "markdown",
      "metadata": {
        "id": "7Q2MYM5l0XFp"
      },
      "source": [
        "#method 1.5"
      ]
    },
    {
      "cell_type": "code",
      "metadata": {
        "id": "cjQNX_8trZVs",
        "outputId": "a36fd0bd-8f7a-4ebb-8ba1-cbea16c603c5",
        "colab": {
          "base_uri": "https://localhost:8080/",
          "height": 578
        }
      },
      "source": [
        "w_restaurant_df.isnull().any()"
      ],
      "execution_count": 40,
      "outputs": [
        {
          "output_type": "execute_result",
          "data": {
            "text/plain": [
              "id                         False\n",
              "name                       False\n",
              "domain_id                  False\n",
              "closed                     False\n",
              "city_name                  False\n",
              "zipcode                     True\n",
              "geohash                    False\n",
              "new_open                   False\n",
              "weighted_average_rating    False\n",
              "number_of_chains            True\n",
              "number_of_bookmarks         True\n",
              "number_of_reviews          False\n",
              "number_of_product_tags     False\n",
              "total_number_of_views      False\n",
              "number_of_checkins         False\n",
              "number_of_menu_groups      False\n",
              "number_of_menu_photos      False\n",
              "category_name              False\n",
              "price_range                 True\n",
              "avg_price                   True\n",
              "parking                     True\n",
              "credit_card_accepted        True\n",
              "good_for_groups             True\n",
              "good_for_kids               True\n",
              "bookable                    True\n",
              "best_of_wongnai             True\n",
              "wifi                        True\n",
              "number_of_seats             True\n",
              "music_venue                 True\n",
              "hotel_restaurant            True\n",
              "pet_friendly                True\n",
              "delivery                    True\n",
              "dtype: bool"
            ]
          },
          "metadata": {
            "tags": []
          },
          "execution_count": 40
        }
      ]
    },
    {
      "cell_type": "code",
      "metadata": {
        "id": "VMQ0DT0IrZT4",
        "outputId": "e0a72eaf-dad8-4776-a541-fe8ae10894c9",
        "colab": {
          "base_uri": "https://localhost:8080/",
          "height": 34
        }
      },
      "source": [
        "w_restaurant_df.dropna(subset=['id','name','price_range']).shape"
      ],
      "execution_count": 41,
      "outputs": [
        {
          "output_type": "execute_result",
          "data": {
            "text/plain": [
              "(180972, 32)"
            ]
          },
          "metadata": {
            "tags": []
          },
          "execution_count": 41
        }
      ]
    },
    {
      "cell_type": "markdown",
      "metadata": {
        "id": "lygJ_N-42q09"
      },
      "source": [
        "#Method 2"
      ]
    },
    {
      "cell_type": "code",
      "metadata": {
        "id": "rf_Ndt3SrZMV"
      },
      "source": [
        "w_restaurant_df[['number_of_chains']] = w_restaurant_df[['number_of_chains']].fillna(0)"
      ],
      "execution_count": null,
      "outputs": []
    },
    {
      "cell_type": "code",
      "metadata": {
        "id": "h-tBaxy63M_6"
      },
      "source": [
        "w_restaurant_df.isnull().any()"
      ],
      "execution_count": null,
      "outputs": []
    },
    {
      "cell_type": "markdown",
      "metadata": {
        "id": "4tw49HIOFnFy"
      },
      "source": [
        "# Method 3"
      ]
    },
    {
      "cell_type": "code",
      "metadata": {
        "id": "MsQIrtqtFdsk"
      },
      "source": [
        "new_table = w_restaurant_df[['name','city_name','avg_price']]\n",
        "new_table"
      ],
      "execution_count": null,
      "outputs": []
    },
    {
      "cell_type": "markdown",
      "metadata": {
        "id": "0uNRoswgFx8L"
      },
      "source": [
        "#[PD] select data\n"
      ]
    },
    {
      "cell_type": "code",
      "metadata": {
        "id": "br_KcbhyFd5R"
      },
      "source": [
        "selected_list = new_table['city_name']=='Bangkok Metropolitan Region'\n",
        "selected_list"
      ],
      "execution_count": null,
      "outputs": []
    },
    {
      "cell_type": "code",
      "metadata": {
        "id": "W-w5oXwmFd9Z"
      },
      "source": [
        "new_table[selected_list].head()"
      ],
      "execution_count": null,
      "outputs": []
    },
    {
      "cell_type": "markdown",
      "metadata": {
        "id": "26GXzXArF-8L"
      },
      "source": [
        "#หาราคาเฉลี่ยของร้านในจังหวัดกรุงเทพ"
      ]
    },
    {
      "cell_type": "code",
      "metadata": {
        "id": "MBWPDXyIFeQT"
      },
      "source": [
        "new_table[new_table['city_name']=='Bangkok Metropolitan Region'].dropna()['avg_price'].mean()"
      ],
      "execution_count": null,
      "outputs": []
    },
    {
      "cell_type": "markdown",
      "metadata": {
        "id": "smZ89cXrGLoz"
      },
      "source": [
        "1. เลือกเฉพาะ กทม"
      ]
    },
    {
      "cell_type": "code",
      "metadata": {
        "id": "MfPhiLRAFeY-"
      },
      "source": [
        "bkk_table = new_table[new_table['city_name']=='Bangkok Metropolitan Region']\n",
        "bkk_table.head()"
      ],
      "execution_count": null,
      "outputs": []
    },
    {
      "cell_type": "markdown",
      "metadata": {
        "id": "OGTOxwgcGUO_"
      },
      "source": [
        "2. ลบ missing"
      ]
    },
    {
      "cell_type": "code",
      "metadata": {
        "id": "DVDUi5K_FemL"
      },
      "source": [
        "bkk_table_dp = bkk_table.dropna()\n",
        "bkk_table_dp.head()"
      ],
      "execution_count": null,
      "outputs": []
    },
    {
      "cell_type": "markdown",
      "metadata": {
        "id": "nofgNCK9GaNI"
      },
      "source": [
        "3. เลือกเฉพาะ  column 'avg_price'"
      ]
    },
    {
      "cell_type": "code",
      "metadata": {
        "id": "2uTulTnJFe0V"
      },
      "source": [
        "bkk_table_dp_avg_price = bkk_table_dp['avg_price']\n",
        "bkk_table_dp_avg_price"
      ],
      "execution_count": null,
      "outputs": []
    },
    {
      "cell_type": "markdown",
      "metadata": {
        "id": "SoykDQTDGnBA"
      },
      "source": [
        "4. หาค่าเฉลี่ย"
      ]
    },
    {
      "cell_type": "code",
      "metadata": {
        "id": "ku2bmBiVFe-3"
      },
      "source": [
        "bkk_table_dp_avg_price.mean()"
      ],
      "execution_count": null,
      "outputs": []
    },
    {
      "cell_type": "markdown",
      "metadata": {
        "id": "yz2Mn9QAGsvq"
      },
      "source": [
        "#แก้ missing method 3 เติมค่าที่เหมาะสมตามกลุ่มของมัน"
      ]
    },
    {
      "cell_type": "code",
      "metadata": {
        "id": "BHrqKFw1FfFT"
      },
      "source": [
        "bkk_table[['avg_price']] = bkk_table[['avg_price']].fillna(bkk_table_dp_avg_price.mean())\n",
        "bkk_table.head()"
      ],
      "execution_count": null,
      "outputs": []
    },
    {
      "cell_type": "code",
      "metadata": {
        "id": "YXiBRnXcFfLN"
      },
      "source": [
        "#bkk_table[['avg_price']].fillna(bkk_table_dp_avg_price.mean(),inplace=True)\n",
        "#bkk_table.head()"
      ],
      "execution_count": null,
      "outputs": []
    },
    {
      "cell_type": "markdown",
      "metadata": {
        "id": "dUZ3OIdZG4cu"
      },
      "source": [
        "#Ex 9 หาราคาเฉลี่ยของร้านในจังหวัดเชียงใหม่"
      ]
    },
    {
      "cell_type": "markdown",
      "metadata": {
        "id": "SZyluxnzG_UF"
      },
      "source": [
        "[PD] ต่อตารางในแนวแกน Y (เพิ่มจำนวน data) pd.concat"
      ]
    },
    {
      "cell_type": "code",
      "metadata": {
        "id": "AFcNj47pFfWl"
      },
      "source": [
        "cm_table = new_table[new_table['city_name']=='Chiang Mai']\n",
        "cm_table[['avg_price']] = cm_table[['avg_price']].fillna(new_table[new_table['city_name']=='Chiang Mai'].dropna()['avg_price'].mean())\n",
        "cm_table.head()"
      ],
      "execution_count": null,
      "outputs": []
    },
    {
      "cell_type": "code",
      "metadata": {
        "id": "LPrEN2wQFfeH"
      },
      "source": [
        "pd_concat = pandas.concat([bkk_table,cm_table])\n",
        "pd_concat"
      ],
      "execution_count": null,
      "outputs": []
    },
    {
      "cell_type": "markdown",
      "metadata": {
        "id": "HfkU3KcvHGwX"
      },
      "source": [
        "Method 3 Looping (concat)"
      ]
    },
    {
      "cell_type": "markdown",
      "metadata": {
        "id": "Lczww8DTHQfg"
      },
      "source": [
        "1. ดึงจังหวัดที่มีอยู่ทั้งหมดในตารางออกมา"
      ]
    },
    {
      "cell_type": "code",
      "metadata": {
        "id": "CDcqA8xsFfn3"
      },
      "source": [
        "all_cities = set(new_table['city_name'])\n",
        "len(all_cities)"
      ],
      "execution_count": null,
      "outputs": []
    },
    {
      "cell_type": "markdown",
      "metadata": {
        "id": "REzV1x1UHUGK"
      },
      "source": [
        "2. คำนวณค่า mean ของ column 'city_name' เพื่อเก็บไว้เติมใส่\n",
        "เมืองที่เป็น missing ทุกร้าน"
      ]
    },
    {
      "cell_type": "code",
      "metadata": {
        "id": "8AfOsv_LFf0M"
      },
      "source": [
        "all_mean = new_table.dropna(subset=['avg_price'])['avg_price'].mean()\n",
        "all_mean"
      ],
      "execution_count": null,
      "outputs": []
    },
    {
      "cell_type": "markdown",
      "metadata": {
        "id": "pO2WJsCgHbIG"
      },
      "source": [
        "3. สร้าง list ของตารางของทุกๆจังหวัด"
      ]
    },
    {
      "cell_type": "code",
      "metadata": {
        "id": "TjF7fctqFf67"
      },
      "source": [
        "all_cities_list = []\n",
        "for each_city in list(all_cities):\n",
        "\n",
        "    # cm_table = new_table[new_table['city_name']=='Chiang Mai']\n",
        "    # cm_table[['avg_price']] = cm_table[['avg_price']].fillna(new_table[new_table['city_name']=='Chiang Mai'].dropna()['avg_price'].mean())\n",
        " \n",
        "    temp_table = new_table[new_table['city_name']==each_city]\n",
        "    temp_table[['avg_price']] = temp_table[['avg_price']].fillna(new_table[new_table['city_name']==each_city].dropna()['avg_price'].mean())\n",
        "    all_cities_list.append(temp_table)"
      ],
      "execution_count": null,
      "outputs": []
    },
    {
      "cell_type": "markdown",
      "metadata": {
        "id": "NlIGKJYiHh3W"
      },
      "source": [
        "4. สร้างตารางจาก list ของตาราง ด้วย pd.concat"
      ]
    },
    {
      "cell_type": "code",
      "metadata": {
        "id": "eClEd2dCFgJw"
      },
      "source": [
        "all_no_missing = pandas.concat(all_cities_list)\n",
        "all_no_missing"
      ],
      "execution_count": null,
      "outputs": []
    },
    {
      "cell_type": "markdown",
      "metadata": {
        "id": "NbWH68uQHmiG"
      },
      "source": [
        "5. เติมค่า mean ของทั้งตารางให้กับจังหวัดที่ไม่มี mean"
      ]
    },
    {
      "cell_type": "code",
      "metadata": {
        "id": "AfS8dgh0FgUQ"
      },
      "source": [
        "all_no_missing = all_no_missing.fillna(all_mean)\n",
        "all_no_missing.isnull().any()"
      ],
      "execution_count": null,
      "outputs": []
    },
    {
      "cell_type": "code",
      "metadata": {
        "id": "nojbG5p4FgdO"
      },
      "source": [
        "all_no_missing"
      ],
      "execution_count": null,
      "outputs": []
    },
    {
      "cell_type": "markdown",
      "metadata": {
        "id": "xSs_cZnoHuL6"
      },
      "source": [
        "#Remove Outlier (boxplot)"
      ]
    },
    {
      "cell_type": "markdown",
      "metadata": {
        "id": "SQtgQiD2Hysb"
      },
      "source": [
        "Quiz วาด boxplot ของ ค่า 'avg_price' ของตาราง all_no_missing (แนวนอน)"
      ]
    },
    {
      "cell_type": "code",
      "metadata": {
        "id": "U4zH4mWcFgtn"
      },
      "source": [
        "from matplotlib import pyplot as plt"
      ],
      "execution_count": 44,
      "outputs": []
    },
    {
      "cell_type": "code",
      "metadata": {
        "id": "AapuPzhAFgoc",
        "outputId": "acba63ce-281f-4653-b727-3d6bc31a2229",
        "colab": {
          "base_uri": "https://localhost:8080/",
          "height": 164
        }
      },
      "source": [
        "ret = plt.boxplot(all_no_missing['avg_price'],vert=False)"
      ],
      "execution_count": 45,
      "outputs": [
        {
          "output_type": "error",
          "ename": "NameError",
          "evalue": "ignored",
          "traceback": [
            "\u001b[0;31m---------------------------------------------------------------------------\u001b[0m",
            "\u001b[0;31mNameError\u001b[0m                                 Traceback (most recent call last)",
            "\u001b[0;32m<ipython-input-45-377bf13a5d53>\u001b[0m in \u001b[0;36m<module>\u001b[0;34m()\u001b[0m\n\u001b[0;32m----> 1\u001b[0;31m \u001b[0mret\u001b[0m \u001b[0;34m=\u001b[0m \u001b[0mplt\u001b[0m\u001b[0;34m.\u001b[0m\u001b[0mboxplot\u001b[0m\u001b[0;34m(\u001b[0m\u001b[0mall_no_missing\u001b[0m\u001b[0;34m[\u001b[0m\u001b[0;34m'avg_price'\u001b[0m\u001b[0;34m]\u001b[0m\u001b[0;34m,\u001b[0m\u001b[0mvert\u001b[0m\u001b[0;34m=\u001b[0m\u001b[0;32mFalse\u001b[0m\u001b[0;34m)\u001b[0m\u001b[0;34m\u001b[0m\u001b[0;34m\u001b[0m\u001b[0m\n\u001b[0m",
            "\u001b[0;31mNameError\u001b[0m: name 'all_no_missing' is not defined"
          ]
        }
      ]
    },
    {
      "cell_type": "code",
      "metadata": {
        "id": "NFlW6lUGFglC"
      },
      "source": [
        "print(ret['whiskers'][0].get_xdata()[1])\n",
        "print(ret['whiskers'][1].get_xdata()[1])"
      ],
      "execution_count": null,
      "outputs": []
    },
    {
      "cell_type": "code",
      "metadata": {
        "id": "o0EmKoiiFgai"
      },
      "source": [
        "nooutlier_nomissing = all_no_missing[all_no_missing['avg_price']>=ret['whiskers'][0].get_xdata()[1]]\n",
        "nooutlier_nomissing = nooutlier_nomissing[nooutlier_nomissing['avg_price']<=ret['whiskers'][1].get_xdata()[1]]\n",
        "nooutlier_nomissing"
      ],
      "execution_count": null,
      "outputs": []
    },
    {
      "cell_type": "markdown",
      "metadata": {
        "id": "eYq3-Zo4IBGu"
      },
      "source": [
        "\n",
        "*   ~~ Smooth data (binning) ~~\n",
        "*   Reduce Data (Deduplication (remove duplication), sampling (randomly select data) vs PCA (reduce dimensions of data))\n",
        "*   Data Integration (combine 2 tables vs copy some columns from another table)"
      ]
    },
    {
      "cell_type": "markdown",
      "metadata": {
        "id": "sN3Y6CTPIFuT"
      },
      "source": [
        "#1. Adding a field from other table\n",
        "or merge the entire tables https://www.kaggle.com/crawford/python-merge-tutorial/#"
      ]
    },
    {
      "cell_type": "markdown",
      "metadata": {
        "id": "NuZCObDDIJFO"
      },
      "source": [
        "one selected column\n",
        ".map()"
      ]
    },
    {
      "cell_type": "code",
      "metadata": {
        "id": "3nDWQ-W_FgQy"
      },
      "source": [
        "search_click_df['bu_name'] = search_click_df['business_id'].map(w_restaurant_df.set_index('id')['name'])"
      ],
      "execution_count": null,
      "outputs": []
    },
    {
      "cell_type": "code",
      "metadata": {
        "id": "CA7b9AKsFfw9"
      },
      "source": [
        "search_click_df"
      ],
      "execution_count": null,
      "outputs": []
    },
    {
      "cell_type": "markdown",
      "metadata": {
        "id": "R2u4gksjIjO0"
      },
      "source": [
        "merge two tables\n",
        ".merge()"
      ]
    },
    {
      "cell_type": "code",
      "metadata": {
        "id": "GcylmdIIFfvE"
      },
      "source": [
        "merged_table = search_click_df.merge(w_restaurant_df,how='left',left_on='business_id',right_on='id')"
      ],
      "execution_count": null,
      "outputs": []
    },
    {
      "cell_type": "code",
      "metadata": {
        "id": "wkzR5iGjFfkt"
      },
      "source": [
        "merged_table"
      ],
      "execution_count": null,
      "outputs": []
    },
    {
      "cell_type": "markdown",
      "metadata": {
        "id": "R4lnoLfFI0YX"
      },
      "source": [
        "#4. One-hot-encoder for Categorical data"
      ]
    },
    {
      "cell_type": "code",
      "metadata": {
        "id": "V1Dgb4A6FfTC"
      },
      "source": [
        "w_restaurant_df = pandas.get_dummies(w_restaurant_df, columns=['wifi'])"
      ],
      "execution_count": null,
      "outputs": []
    },
    {
      "cell_type": "code",
      "metadata": {
        "id": "v6Wda4EPFexj"
      },
      "source": [
        "w_restaurant_df"
      ],
      "execution_count": null,
      "outputs": []
    },
    {
      "cell_type": "markdown",
      "metadata": {
        "id": "8H1znLjhI_Fe"
      },
      "source": [
        "#8. Group By -- Aggregation\n",
        "https://www.kaggle.com/crawford/python-groupby-tutorial#\n",
        "\n"
      ]
    },
    {
      "cell_type": "markdown",
      "metadata": {
        "id": "nvlaniRaJpK2"
      },
      "source": [
        " #<img src=\"https://github.com/tohnperfect/KKU_Data_Mining/blob/master/03.08-split-apply-combine.png?raw=1\"> "
      ]
    },
    {
      "cell_type": "code",
      "metadata": {
        "id": "t15-hcueFevO"
      },
      "source": [
        "groups = search_click_df.groupby('business_id')"
      ],
      "execution_count": null,
      "outputs": []
    },
    {
      "cell_type": "code",
      "metadata": {
        "id": "u-Nl845mFese"
      },
      "source": [
        "groups"
      ],
      "execution_count": null,
      "outputs": []
    },
    {
      "cell_type": "code",
      "metadata": {
        "id": "B-8XC0SEFekD"
      },
      "source": [
        "groups.count()"
      ],
      "execution_count": null,
      "outputs": []
    },
    {
      "cell_type": "code",
      "metadata": {
        "id": "F64X4wMdFeh0"
      },
      "source": [
        "count_table=groups.count().reset_index()"
      ],
      "execution_count": null,
      "outputs": []
    },
    {
      "cell_type": "code",
      "metadata": {
        "id": "jPCBZA2dFeep"
      },
      "source": [
        "w_restaurant_df['num_click'] = w_restaurant_df['id'].map(count_table.set_index('business_id')['ads'])"
      ],
      "execution_count": null,
      "outputs": []
    },
    {
      "cell_type": "code",
      "metadata": {
        "id": "p_WI5pkIFeWf"
      },
      "source": [
        "w_restaurant_df"
      ],
      "execution_count": null,
      "outputs": []
    },
    {
      "cell_type": "code",
      "metadata": {
        "id": "l7NBkHT1FeMF"
      },
      "source": [
        "## Build a table which only shows id, name, rating, num_clicks. How?"
      ],
      "execution_count": null,
      "outputs": []
    },
    {
      "cell_type": "markdown",
      "metadata": {
        "id": "nVt7TGsiJZAI"
      },
      "source": [
        "#12. Save to use with other applications"
      ]
    },
    {
      "cell_type": "code",
      "metadata": {
        "id": "T-rw35MoFeKS"
      },
      "source": [
        "search_click_df.to_csv('search_click_extracted_time.csv')"
      ],
      "execution_count": null,
      "outputs": []
    },
    {
      "cell_type": "markdown",
      "metadata": {
        "id": "T5sf9RtbJh6N"
      },
      "source": [
        "<img src=\"https://github.com/tohnperfect/KKU_Data_Mining/blob/master/panda_end2.jpg?raw=1\"> \n",
        "jupyter nbconvert \"Basic ELT with Pandas.ipynb\" --to pdf\n"
      ]
    },
    {
      "cell_type": "code",
      "metadata": {
        "id": "WGqLEHx6FeH6"
      },
      "source": [
        ""
      ],
      "execution_count": null,
      "outputs": []
    }
  ]
}