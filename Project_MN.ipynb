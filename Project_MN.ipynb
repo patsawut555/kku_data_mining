{
  "nbformat": 4,
  "nbformat_minor": 0,
  "metadata": {
    "colab": {
      "name": "Project_MN.ipynb",
      "private_outputs": true,
      "provenance": [],
      "authorship_tag": "ABX9TyOS1ckMOMXEVsPSZXN1yKRS",
      "include_colab_link": true
    },
    "kernelspec": {
      "name": "python3",
      "display_name": "Python 3"
    }
  },
  "cells": [
    {
      "cell_type": "markdown",
      "metadata": {
        "id": "view-in-github",
        "colab_type": "text"
      },
      "source": [
        "<a href=\"https://colab.research.google.com/github/patsawut555/kku_data_mining/blob/master/Project_MN.ipynb\" target=\"_parent\"><img src=\"https://colab.research.google.com/assets/colab-badge.svg\" alt=\"Open In Colab\"/></a>"
      ]
    },
    {
      "cell_type": "markdown",
      "metadata": {
        "id": "GGabZkLDDSXv"
      },
      "source": [
        "#Project เรื่อง การจำแนกกลุ่มลูกค้า\n",
        "จัดทำโดย\n",
        "นาย พรรษวุฒิ พุทธพรหม รหัส 613020242-1\n",
        "นาย พิทักษ์ บุญพึ่ง  รหัส 613021017-3"
      ]
    },
    {
      "cell_type": "markdown",
      "metadata": {
        "id": "ePqwKyA-DXYU"
      },
      "source": [
        "## นำเข้าสิ่งที่ต้องใช้"
      ]
    },
    {
      "cell_type": "code",
      "metadata": {
        "id": "H5FbsEtGDNHK"
      },
      "source": [
        "\n",
        "from sklearn import tree\n",
        "from sklearn.neighbors import KNeighborsClassifier\n",
        "\n",
        "from sklearn.model_selection import train_test_split\n",
        "import pandas as pd"
      ],
      "execution_count": null,
      "outputs": []
    },
    {
      "cell_type": "markdown",
      "metadata": {
        "id": "TETwkhcvDRhQ"
      },
      "source": [
        "เรียกไฟล์ที่อยู่ใน Google Drive มาลงใน Google Colab"
      ]
    },
    {
      "cell_type": "code",
      "metadata": {
        "id": "53l8qa5dDeco"
      },
      "source": [
        "from google.colab import drive\n",
        "drive.mount('/content/drive')"
      ],
      "execution_count": null,
      "outputs": []
    },
    {
      "cell_type": "code",
      "metadata": {
        "id": "4iMhevDPDeZ2"
      },
      "source": [
        "path = '/content/drive/My Drive/Project_MN'"
      ],
      "execution_count": null,
      "outputs": []
    },
    {
      "cell_type": "code",
      "metadata": {
        "id": "qC1j2NhGDeXG"
      },
      "source": [
        "import os"
      ],
      "execution_count": null,
      "outputs": []
    },
    {
      "cell_type": "markdown",
      "metadata": {
        "id": "hbG_PDrTG-l9"
      },
      "source": [
        "เปลี่ยนชื่อจาก Train เป็น Old_customers"
      ]
    },
    {
      "cell_type": "code",
      "metadata": {
        "id": "0lsCKwOhDeTt"
      },
      "source": [
        "Old_customers = os.path.join(path,'Train.csv')"
      ],
      "execution_count": null,
      "outputs": []
    },
    {
      "cell_type": "markdown",
      "metadata": {
        "id": "7gVpc8a3HNLn"
      },
      "source": [
        "เปลี่ยนชื่อจาก Test เป็น New_customers"
      ]
    },
    {
      "cell_type": "code",
      "metadata": {
        "id": "KkM-5P0hDeQX"
      },
      "source": [
        "New_customers = os.path.join(path,'Test.csv')"
      ],
      "execution_count": null,
      "outputs": []
    },
    {
      "cell_type": "markdown",
      "metadata": {
        "id": "CSUQdaMIHZUI"
      },
      "source": [
        "เรียกตารางที่ชื่อ Old_customers "
      ]
    },
    {
      "cell_type": "code",
      "metadata": {
        "id": "ayfYIx1RDeND"
      },
      "source": [
        "Old_customers_df = pd.read_csv(Old_customers)"
      ],
      "execution_count": null,
      "outputs": []
    },
    {
      "cell_type": "markdown",
      "metadata": {
        "id": "q8gDSR0xHlNB"
      },
      "source": [
        "เรียกตารางที่ชื่อ New_customers"
      ]
    },
    {
      "cell_type": "code",
      "metadata": {
        "id": "hzAoQj9bDeJr"
      },
      "source": [
        "New_customers_df = pd.read_csv(New_customers)"
      ],
      "execution_count": null,
      "outputs": []
    },
    {
      "cell_type": "markdown",
      "metadata": {
        "id": "C7KfrKKtIMHR"
      },
      "source": [
        "แสดงตาราง Old_customers"
      ]
    },
    {
      "cell_type": "code",
      "metadata": {
        "id": "dnIdnZG7DeGt"
      },
      "source": [
        "Old_customers_df.head(3)"
      ],
      "execution_count": null,
      "outputs": []
    },
    {
      "cell_type": "markdown",
      "metadata": {
        "id": "Tgr6mohxIQ9O"
      },
      "source": [
        "แสดงตาราง New_customers"
      ]
    },
    {
      "cell_type": "code",
      "metadata": {
        "id": "q1ZUlrfvDeDt"
      },
      "source": [
        "New_customers_df.head(3)"
      ],
      "execution_count": null,
      "outputs": []
    },
    {
      "cell_type": "markdown",
      "metadata": {
        "id": "-O08RQDKEWfJ"
      },
      "source": [
        "## ทำการ join ตาราง Old_customers กับ New_customers โดยให้ ratings เป็นตารางหลักและให้ชื่อตารางว่า merged_table"
      ]
    },
    {
      "cell_type": "code",
      "metadata": {
        "id": "B_D63rANDeAZ"
      },
      "source": [
        "merged_table = Old_customers_df.merge(New_customers_df,how='left',left_on='Segmentation',right_on='Segmentation')\n",
        "merged_table.head(4)"
      ],
      "execution_count": null,
      "outputs": []
    },
    {
      "cell_type": "markdown",
      "metadata": {
        "id": "OMYID1jHEaT_"
      },
      "source": [
        "## การเเก้ไข ตัวหนังสือให้เป็นตัวเลข"
      ]
    },
    {
      "cell_type": "code",
      "metadata": {
        "id": "PeCSAR2mDd9O"
      },
      "source": [
        "Old_customers_df.Gender.unique()"
      ],
      "execution_count": null,
      "outputs": []
    },
    {
      "cell_type": "code",
      "metadata": {
        "id": "_MHGhG-RDd6t"
      },
      "source": [
        "Old_customers_df['Gender'] = Old_customers_df.Gender.replace(['Male', 'Female'],[1,2])"
      ],
      "execution_count": null,
      "outputs": []
    },
    {
      "cell_type": "code",
      "metadata": {
        "id": "qUbG01Z4Dd3C"
      },
      "source": [
        "Old_customers_df.Ever_Married.unique()"
      ],
      "execution_count": null,
      "outputs": []
    },
    {
      "cell_type": "code",
      "metadata": {
        "id": "Mzj0iRATDdzb"
      },
      "source": [
        "Old_customers_df['Ever_Married'] = Old_customers_df.Ever_Married.replace(['No', 'Yes' ],[0,1])"
      ],
      "execution_count": null,
      "outputs": []
    },
    {
      "cell_type": "code",
      "metadata": {
        "id": "wdLykBjRDdwy"
      },
      "source": [
        "Old_customers_df.Age.unique()"
      ],
      "execution_count": null,
      "outputs": []
    },
    {
      "cell_type": "code",
      "metadata": {
        "id": "ka9TAXhSDdtz"
      },
      "source": [
        "Old_customers_df.Graduated.unique()"
      ],
      "execution_count": null,
      "outputs": []
    },
    {
      "cell_type": "code",
      "metadata": {
        "id": "QTtYOiwPDdqy"
      },
      "source": [
        "Old_customers_df['Graduated'] = Old_customers_df.Graduated.replace(['No', 'Yes'],[0,1])"
      ],
      "execution_count": null,
      "outputs": []
    },
    {
      "cell_type": "code",
      "metadata": {
        "id": "8tyj3PEoDdny"
      },
      "source": [
        "Old_customers_df.Profession.unique()"
      ],
      "execution_count": null,
      "outputs": []
    },
    {
      "cell_type": "code",
      "metadata": {
        "id": "kjxttaNUDdkc"
      },
      "source": [
        "Old_customers_df['Profession'] = Old_customers_df.Profession.replace(['Healthcare', 'Engineer', 'Lawyer', 'Entertainment', 'Artist',\n",
        "       'Executive', 'Doctor', 'Homemaker', 'Marketing'],[1,2,3,4,5,6,7,8,9])"
      ],
      "execution_count": null,
      "outputs": []
    },
    {
      "cell_type": "code",
      "metadata": {
        "id": "yMXlGv_wDdha"
      },
      "source": [
        "Old_customers_df.Work_Experience.unique()"
      ],
      "execution_count": null,
      "outputs": []
    },
    {
      "cell_type": "code",
      "metadata": {
        "id": "JTtMVK-cDdPj"
      },
      "source": [
        "Old_customers_df.Spending_Score.unique()"
      ],
      "execution_count": null,
      "outputs": []
    },
    {
      "cell_type": "code",
      "metadata": {
        "id": "xGGbaXo7DdM2"
      },
      "source": [
        "Old_customers_df['Spending_Score'] = Old_customers_df.Spending_Score.replace(['Low', 'Average', 'High'],[1,2,3])"
      ],
      "execution_count": null,
      "outputs": []
    },
    {
      "cell_type": "code",
      "metadata": {
        "id": "YNU-JlarDdJ_"
      },
      "source": [
        "Old_customers_df.Family_Size.unique()"
      ],
      "execution_count": null,
      "outputs": []
    },
    {
      "cell_type": "code",
      "metadata": {
        "id": "d4wGi-1ZDdG2"
      },
      "source": [
        "Old_customers_df.head(3)"
      ],
      "execution_count": null,
      "outputs": []
    },
    {
      "cell_type": "code",
      "metadata": {
        "id": "rwBBFM8KDdEj"
      },
      "source": [
        "New_customers_df.Gender.unique()"
      ],
      "execution_count": null,
      "outputs": []
    },
    {
      "cell_type": "code",
      "metadata": {
        "id": "aNtJ3At3Dc42"
      },
      "source": [
        "New_customers_df['Gender'] = New_customers_df.Gender.replace(['Male', 'Female'],[1,2])"
      ],
      "execution_count": null,
      "outputs": []
    },
    {
      "cell_type": "code",
      "metadata": {
        "id": "yCGjUM6WE3gE"
      },
      "source": [
        "New_customers_df.Ever_Married.unique()"
      ],
      "execution_count": null,
      "outputs": []
    },
    {
      "cell_type": "code",
      "metadata": {
        "id": "ICEy9xtqE3XJ"
      },
      "source": [
        "New_customers_df['Ever_Married'] = New_customers_df.Ever_Married.replace(['No', 'Yes'],[0,1])"
      ],
      "execution_count": null,
      "outputs": []
    },
    {
      "cell_type": "code",
      "metadata": {
        "id": "B4HCGacfE3PV"
      },
      "source": [
        "New_customers_df.Age.unique()"
      ],
      "execution_count": null,
      "outputs": []
    },
    {
      "cell_type": "code",
      "metadata": {
        "id": "NZLtAFBjE3Es"
      },
      "source": [
        "New_customers_df.Graduated.unique()"
      ],
      "execution_count": null,
      "outputs": []
    },
    {
      "cell_type": "code",
      "metadata": {
        "id": "vwZ8ksxYE3AE"
      },
      "source": [
        "New_customers_df['Graduated'] = New_customers_df.Graduated.replace(['No', 'Yes'],[0,1])"
      ],
      "execution_count": null,
      "outputs": []
    },
    {
      "cell_type": "code",
      "metadata": {
        "id": "VK_PruTdE20q"
      },
      "source": [
        "New_customers_df.Profession.unique()"
      ],
      "execution_count": null,
      "outputs": []
    },
    {
      "cell_type": "code",
      "metadata": {
        "id": "y-epVhg3E2x9"
      },
      "source": [
        "New_customers_df.Work_Experience.unique()"
      ],
      "execution_count": null,
      "outputs": []
    },
    {
      "cell_type": "code",
      "metadata": {
        "id": "XJzexKk_E2vF"
      },
      "source": [
        "New_customers_df.Spending_Score.unique()"
      ],
      "execution_count": null,
      "outputs": []
    },
    {
      "cell_type": "code",
      "metadata": {
        "id": "rqqYp-ClE2sF"
      },
      "source": [
        "New_customers_df['Spending_Score'] = New_customers_df.Spending_Score.replace(['Low', 'Average', 'High'],[1,2,3])"
      ],
      "execution_count": null,
      "outputs": []
    },
    {
      "cell_type": "code",
      "metadata": {
        "id": "XfaaT_uuE2ol"
      },
      "source": [
        "New_customers_df.Family_Size.unique()"
      ],
      "execution_count": null,
      "outputs": []
    },
    {
      "cell_type": "code",
      "metadata": {
        "id": "drj7mWz8E2k7"
      },
      "source": [
        "New_customers_df.head(3)"
      ],
      "execution_count": null,
      "outputs": []
    },
    {
      "cell_type": "markdown",
      "metadata": {
        "id": "doGgOYYXFKDv"
      },
      "source": [
        "## การตรวจสอบ Missing Values"
      ]
    },
    {
      "cell_type": "code",
      "metadata": {
        "id": "Da2NyzTxE2Zx"
      },
      "source": [
        "Old_customers_df.isnull().any()"
      ],
      "execution_count": null,
      "outputs": []
    },
    {
      "cell_type": "code",
      "metadata": {
        "id": "BomNGaSNE2Vt"
      },
      "source": [
        "New_customers_df.isnull().any()"
      ],
      "execution_count": null,
      "outputs": []
    },
    {
      "cell_type": "markdown",
      "metadata": {
        "id": "pXbvowOfFRUZ"
      },
      "source": [
        "## เริ่มตรวจสอบความเหมาะสม"
      ]
    },
    {
      "cell_type": "code",
      "metadata": {
        "id": "YOuV1N-RE2R7"
      },
      "source": [
        "x1 = Old_customers_df[['Gender','Ever_Married','Age','Graduated','Profession','Work_Experience','Spending_Score','Family_Size']]\n",
        "y1= Old_customers_df['Segmentation']"
      ],
      "execution_count": null,
      "outputs": []
    },
    {
      "cell_type": "code",
      "metadata": {
        "id": "rSvMzbghE2Oa"
      },
      "source": [
        "x2 = New_customers_df[['Gender','Ever_Married','Age','Graduated','Profession','Work_Experience','Spending_Score','Family_Size']]\n",
        "y2 = New_customers_df['Segmentation']"
      ],
      "execution_count": null,
      "outputs": []
    },
    {
      "cell_type": "code",
      "metadata": {
        "id": "7vQAFTm9E14s"
      },
      "source": [
        "Treemodel = tree.DecisionTreeClassifier()"
      ],
      "execution_count": null,
      "outputs": []
    },
    {
      "cell_type": "code",
      "metadata": {
        "id": "hylUEfzeFZyg"
      },
      "source": [
        "Treemodel = Treemodel.fit(train_x1 , train_y1)"
      ],
      "execution_count": null,
      "outputs": []
    },
    {
      "cell_type": "code",
      "metadata": {
        "id": "hTs3kTtCFZuV"
      },
      "source": [
        "TreeScore = Treemodel.score(test_x2 , test_y2)"
      ],
      "execution_count": null,
      "outputs": []
    },
    {
      "cell_type": "code",
      "metadata": {
        "id": "8VFleEARFZpL"
      },
      "source": [
        "print(TreeScore)"
      ],
      "execution_count": null,
      "outputs": []
    },
    {
      "cell_type": "markdown",
      "metadata": {
        "id": "k_DjSmmLFfBA"
      },
      "source": [
        "การจัดกลุ่มไม่เหมาะสม"
      ]
    },
    {
      "cell_type": "markdown",
      "metadata": {
        "id": "_o81atYGFhMD"
      },
      "source": [
        "## K-NN"
      ]
    },
    {
      "cell_type": "code",
      "metadata": {
        "id": "hWqTK-irFZk7"
      },
      "source": [
        "KNNmodel = KNeighborsClassifier(n_neighbors=10)"
      ],
      "execution_count": null,
      "outputs": []
    },
    {
      "cell_type": "code",
      "metadata": {
        "id": "XqFxQ99gFZbq"
      },
      "source": [
        "KNNmodel = KNNmodel.fit(train_x1 , train_y1)"
      ],
      "execution_count": null,
      "outputs": []
    },
    {
      "cell_type": "code",
      "metadata": {
        "id": "OcGh50fUFZUh"
      },
      "source": [
        " KnnScore = KNNmodel.score(test_x2 , test_y2)"
      ],
      "execution_count": null,
      "outputs": []
    },
    {
      "cell_type": "code",
      "metadata": {
        "id": "ILpOY_tlFZLh"
      },
      "source": [
        "print(KnnScore)"
      ],
      "execution_count": null,
      "outputs": []
    },
    {
      "cell_type": "markdown",
      "metadata": {
        "id": "W-d0us-7FoF5"
      },
      "source": [
        "K-NN เหมาะสมที่สุด"
      ]
    },
    {
      "cell_type": "code",
      "metadata": {
        "id": "-6CCtcr1FZED"
      },
      "source": [
        ""
      ],
      "execution_count": null,
      "outputs": []
    },
    {
      "cell_type": "markdown",
      "metadata": {
        "id": "XmFNevZdF2Cn"
      },
      "source": [
        "## ทดลองสุ่มข้อมูลลูกค้ามาจัดกลุ่ม"
      ]
    },
    {
      "cell_type": "code",
      "metadata": {
        "id": "ojlo3zE7FY7H"
      },
      "source": [
        "another = [[1,\t0,\t22,\t0\t,1,\t1\t,1\t,4],[2,\t1,\t38,\t1\t,2,\t0\t,2,\t3\t],[2,\t1\t,67\t,1,\t2\t,1,\t1\t,1\t]]"
      ],
      "execution_count": null,
      "outputs": []
    },
    {
      "cell_type": "code",
      "metadata": {
        "id": "B0JXWSASF4kT"
      },
      "source": [
        "print(KNNmodel.predict(another))"
      ],
      "execution_count": null,
      "outputs": []
    },
    {
      "cell_type": "code",
      "metadata": {
        "id": "5FlwNH-1F4f5"
      },
      "source": [
        ""
      ],
      "execution_count": null,
      "outputs": []
    },
    {
      "cell_type": "code",
      "metadata": {
        "id": "8XV-g5RKF4bV"
      },
      "source": [
        ""
      ],
      "execution_count": null,
      "outputs": []
    }
  ]
}