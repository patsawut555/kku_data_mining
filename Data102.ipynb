{
  "nbformat": 4,
  "nbformat_minor": 0,
  "metadata": {
    "colab": {
      "name": "Untitled4.ipynb",
      "provenance": [],
      "authorship_tag": "ABX9TyNrRF13ZptZTr7jVCPhbIRQ",
      "include_colab_link": true
    },
    "kernelspec": {
      "name": "python3",
      "display_name": "Python 3"
    }
  },
  "cells": [
    {
      "cell_type": "markdown",
      "metadata": {
        "id": "view-in-github",
        "colab_type": "text"
      },
      "source": [
        "<a href=\"https://colab.research.google.com/github/patsawut555/kku_data_mining/blob/master/Data102.ipynb\" target=\"_parent\"><img src=\"https://colab.research.google.com/assets/colab-badge.svg\" alt=\"Open In Colab\"/></a>"
      ]
    },
    {
      "cell_type": "code",
      "metadata": {
        "id": "XRJ0KTnRt20I",
        "colab_type": "code",
        "colab": {}
      },
      "source": [
        "import os"
      ],
      "execution_count": 5,
      "outputs": []
    },
    {
      "cell_type": "code",
      "metadata": {
        "id": "KrNWEHnvMAFD",
        "colab_type": "code",
        "colab": {}
      },
      "source": [
        "import pandas as pd"
      ],
      "execution_count": 6,
      "outputs": []
    },
    {
      "cell_type": "code",
      "metadata": {
        "id": "tt5WaK5VMARa",
        "colab_type": "code",
        "colab": {
          "base_uri": "https://localhost:8080/",
          "height": 122
        },
        "outputId": "db90684c-80b6-445b-f83d-f1f7505c4e4d"
      },
      "source": [
        "from google.colab import drive\n",
        "drive.mount('/content/drive')"
      ],
      "execution_count": 20,
      "outputs": [
        {
          "output_type": "stream",
          "text": [
            "Go to this URL in a browser: https://accounts.google.com/o/oauth2/auth?client_id=947318989803-6bn6qk8qdgf4n4g3pfee6491hc0brc4i.apps.googleusercontent.com&redirect_uri=urn%3aietf%3awg%3aoauth%3a2.0%3aoob&scope=email%20https%3a%2f%2fwww.googleapis.com%2fauth%2fdocs.test%20https%3a%2f%2fwww.googleapis.com%2fauth%2fdrive%20https%3a%2f%2fwww.googleapis.com%2fauth%2fdrive.photos.readonly%20https%3a%2f%2fwww.googleapis.com%2fauth%2fpeopleapi.readonly&response_type=code\n",
            "\n",
            "Enter your authorization code:\n",
            "··········\n",
            "Mounted at /content/drive\n"
          ],
          "name": "stdout"
        }
      ]
    },
    {
      "cell_type": "code",
      "metadata": {
        "id": "oglwSN8EMAYI",
        "colab_type": "code",
        "colab": {}
      },
      "source": [
        "base_path= '/content/drive/My Drive/DWDM_material'"
      ],
      "execution_count": 21,
      "outputs": []
    },
    {
      "cell_type": "code",
      "metadata": {
        "id": "J7pEcfGUMAcy",
        "colab_type": "code",
        "colab": {}
      },
      "source": [
        "data = pd.read_csv(os.path.join(base_path,'test.csv'))"
      ],
      "execution_count": 22,
      "outputs": []
    },
    {
      "cell_type": "code",
      "metadata": {
        "id": "Zm1SPJBjMAhP",
        "colab_type": "code",
        "colab": {
          "base_uri": "https://localhost:8080/",
          "height": 255
        },
        "outputId": "578d8c47-13f4-4c0a-889d-76e215b7712b"
      },
      "source": [
        "print(data)"
      ],
      "execution_count": 23,
      "outputs": [
        {
          "output_type": "stream",
          "text": [
            "     Unnamed: 0        x        y\n",
            "0             0  55.3846  97.1795\n",
            "1             1  51.5385  96.0256\n",
            "2             2  46.1538  94.4872\n",
            "3             3  42.8205  91.4103\n",
            "4             4  40.7692  88.3333\n",
            "..          ...      ...      ...\n",
            "137         137  39.4872  25.3846\n",
            "138         138  91.2821  41.5385\n",
            "139         139  50.0000  95.7692\n",
            "140         140  47.9487  95.0000\n",
            "141         141  44.1026  92.6923\n",
            "\n",
            "[142 rows x 3 columns]\n"
          ],
          "name": "stdout"
        }
      ]
    },
    {
      "cell_type": "markdown",
      "metadata": {
        "id": "-XlgW8OGMdHm",
        "colab_type": "text"
      },
      "source": [
        "Boxplot"
      ]
    },
    {
      "cell_type": "code",
      "metadata": {
        "id": "Lq-tZW4YMAoy",
        "colab_type": "code",
        "colab": {}
      },
      "source": [
        "from matplotlib import pyplot as plt"
      ],
      "execution_count": 24,
      "outputs": []
    },
    {
      "cell_type": "code",
      "metadata": {
        "id": "SLWErc3HMAwp",
        "colab_type": "code",
        "colab": {
          "base_uri": "https://localhost:8080/",
          "height": 401
        },
        "outputId": "f357379c-f676-4e9e-8a1e-31f65c6f7d46"
      },
      "source": [
        "plt.boxplot(data['x'],vert= False)"
      ],
      "execution_count": 25,
      "outputs": [
        {
          "output_type": "execute_result",
          "data": {
            "text/plain": [
              "{'boxes': [<matplotlib.lines.Line2D at 0x7f085e2f6940>],\n",
              " 'caps': [<matplotlib.lines.Line2D at 0x7f085e28f358>,\n",
              "  <matplotlib.lines.Line2D at 0x7f085e28f6d8>],\n",
              " 'fliers': [<matplotlib.lines.Line2D at 0x7f085e28fdd8>],\n",
              " 'means': [],\n",
              " 'medians': [<matplotlib.lines.Line2D at 0x7f085e28fa58>],\n",
              " 'whiskers': [<matplotlib.lines.Line2D at 0x7f085eb79358>,\n",
              "  <matplotlib.lines.Line2D at 0x7f085e2f6f98>]}"
            ]
          },
          "metadata": {
            "tags": []
          },
          "execution_count": 25
        },
        {
          "output_type": "display_data",
          "data": {
            "image/png": "[encoded data removed]",
            "text/plain": [
              "<Figure size 432x288 with 1 Axes>"
            ]
          },
          "metadata": {
            "tags": [],
            "needs_background": "light"
          }
        }
      ]
    },
    {
      "cell_type": "code",
      "metadata": {
        "id": "rZbotZbxMA2G",
        "colab_type": "code",
        "colab": {
          "base_uri": "https://localhost:8080/",
          "height": 401
        },
        "outputId": "8e9ee2d0-7cdd-4abb-aac4-cf9e5a8b87d3"
      },
      "source": [
        "plt.boxplot(data['x'],vert=False,whis=1.2)"
      ],
      "execution_count": 26,
      "outputs": [
        {
          "output_type": "execute_result",
          "data": {
            "text/plain": [
              "{'boxes': [<matplotlib.lines.Line2D at 0x7f085ddc7278>],\n",
              " 'caps': [<matplotlib.lines.Line2D at 0x7f085ddc7c88>,\n",
              "  <matplotlib.lines.Line2D at 0x7f085ddd0048>],\n",
              " 'fliers': [<matplotlib.lines.Line2D at 0x7f085ddd0748>],\n",
              " 'means': [],\n",
              " 'medians': [<matplotlib.lines.Line2D at 0x7f085ddd03c8>],\n",
              " 'whiskers': [<matplotlib.lines.Line2D at 0x7f085ddc7588>,\n",
              "  <matplotlib.lines.Line2D at 0x7f085ddc7908>]}"
            ]
          },
          "metadata": {
            "tags": []
          },
          "execution_count": 26
        },
        {
          "output_type": "display_data",
          "data": {
            "image/png": "[encoded data removed]",
            "text/plain": [
              "<Figure size 432x288 with 1 Axes>"
            ]
          },
          "metadata": {
            "tags": [],
            "needs_background": "light"
          }
        }
      ]
    },
    {
      "cell_type": "code",
      "metadata": {
        "id": "1wqhi3kzMA-T",
        "colab_type": "code",
        "colab": {
          "base_uri": "https://localhost:8080/",
          "height": 265
        },
        "outputId": "52682118-696b-4dcb-fc3a-f36da5d840a0"
      },
      "source": [
        "oput=plt.boxplot(data['x'],vert=False,whis=1.2)"
      ],
      "execution_count": 27,
      "outputs": [
        {
          "output_type": "display_data",
          "data": {
            "image/png": "[encoded data removed]",
            "text/plain": [
              "<Figure size 432x288 with 1 Axes>"
            ]
          },
          "metadata": {
            "tags": [],
            "needs_background": "light"
          }
        }
      ]
    },
    {
      "cell_type": "code",
      "metadata": {
        "id": "wJbyQVHgMBJJ",
        "colab_type": "code",
        "colab": {
          "base_uri": "https://localhost:8080/",
          "height": 164
        },
        "outputId": "a3cccc5d-5ca2-44bc-ef4c-b30b7371ab9a"
      },
      "source": [
        "oput['fliers'][0].get_xdata()"
      ],
      "execution_count": 15,
      "outputs": [
        {
          "output_type": "error",
          "ename": "NameError",
          "evalue": "ignored",
          "traceback": [
            "\u001b[0;31m---------------------------------------------------------------------------\u001b[0m",
            "\u001b[0;31mNameError\u001b[0m                                 Traceback (most recent call last)",
            "\u001b[0;32m<ipython-input-15-51441532a3c9>\u001b[0m in \u001b[0;36m<module>\u001b[0;34m()\u001b[0m\n\u001b[0;32m----> 1\u001b[0;31m \u001b[0moput\u001b[0m\u001b[0;34m[\u001b[0m\u001b[0;34m'fliers'\u001b[0m\u001b[0;34m]\u001b[0m\u001b[0;34m[\u001b[0m\u001b[0;36m0\u001b[0m\u001b[0;34m]\u001b[0m\u001b[0;34m.\u001b[0m\u001b[0mget_xdata\u001b[0m\u001b[0;34m(\u001b[0m\u001b[0;34m)\u001b[0m\u001b[0;34m\u001b[0m\u001b[0;34m\u001b[0m\u001b[0m\n\u001b[0m",
            "\u001b[0;31mNameError\u001b[0m: name 'oput' is not defined"
          ]
        }
      ]
    },
    {
      "cell_type": "code",
      "metadata": {
        "id": "IqG3UcplMBil",
        "colab_type": "code",
        "colab": {
          "base_uri": "https://localhost:8080/",
          "height": 164
        },
        "outputId": "ed4071f4-a7d2-4aaa-b8f7-ffc50b768f3e"
      },
      "source": [
        "oput['whiskers'][0].get_xdata()"
      ],
      "execution_count": 16,
      "outputs": [
        {
          "output_type": "error",
          "ename": "NameError",
          "evalue": "ignored",
          "traceback": [
            "\u001b[0;31m---------------------------------------------------------------------------\u001b[0m",
            "\u001b[0;31mNameError\u001b[0m                                 Traceback (most recent call last)",
            "\u001b[0;32m<ipython-input-16-a5862d14f40b>\u001b[0m in \u001b[0;36m<module>\u001b[0;34m()\u001b[0m\n\u001b[0;32m----> 1\u001b[0;31m \u001b[0moput\u001b[0m\u001b[0;34m[\u001b[0m\u001b[0;34m'whiskers'\u001b[0m\u001b[0;34m]\u001b[0m\u001b[0;34m[\u001b[0m\u001b[0;36m0\u001b[0m\u001b[0;34m]\u001b[0m\u001b[0;34m.\u001b[0m\u001b[0mget_xdata\u001b[0m\u001b[0;34m(\u001b[0m\u001b[0;34m)\u001b[0m\u001b[0;34m\u001b[0m\u001b[0;34m\u001b[0m\u001b[0m\n\u001b[0m",
            "\u001b[0;31mNameError\u001b[0m: name 'oput' is not defined"
          ]
        }
      ]
    },
    {
      "cell_type": "code",
      "metadata": {
        "id": "doJ32dRrMBGD",
        "colab_type": "code",
        "colab": {
          "base_uri": "https://localhost:8080/",
          "height": 164
        },
        "outputId": "8c3fb9ae-0ad1-4a27-e172-5b7bcf2491ab"
      },
      "source": [
        "oput['whiskers'][1].get_xdata()"
      ],
      "execution_count": 17,
      "outputs": [
        {
          "output_type": "error",
          "ename": "NameError",
          "evalue": "ignored",
          "traceback": [
            "\u001b[0;31m---------------------------------------------------------------------------\u001b[0m",
            "\u001b[0;31mNameError\u001b[0m                                 Traceback (most recent call last)",
            "\u001b[0;32m<ipython-input-17-3b84f00c50ec>\u001b[0m in \u001b[0;36m<module>\u001b[0;34m()\u001b[0m\n\u001b[0;32m----> 1\u001b[0;31m \u001b[0moput\u001b[0m\u001b[0;34m[\u001b[0m\u001b[0;34m'whiskers'\u001b[0m\u001b[0;34m]\u001b[0m\u001b[0;34m[\u001b[0m\u001b[0;36m1\u001b[0m\u001b[0;34m]\u001b[0m\u001b[0;34m.\u001b[0m\u001b[0mget_xdata\u001b[0m\u001b[0;34m(\u001b[0m\u001b[0;34m)\u001b[0m\u001b[0;34m\u001b[0m\u001b[0;34m\u001b[0m\u001b[0m\n\u001b[0m",
            "\u001b[0;31mNameError\u001b[0m: name 'oput' is not defined"
          ]
        }
      ]
    },
    {
      "cell_type": "code",
      "metadata": {
        "id": "_RaD7R4bMBEC",
        "colab_type": "code",
        "colab": {
          "base_uri": "https://localhost:8080/",
          "height": 181
        },
        "outputId": "f31e0a3b-a3bb-49d4-e882-fe0375ce9a85"
      },
      "source": [
        "plt.scatter(data['x'],data['y'],s=data['y'],c='m',marker='x',alpha=0.4)\n",
        "plt.scatter([44,42,50],[15,14,80],s=250,alpha=0.6)"
      ],
      "execution_count": 18,
      "outputs": [
        {
          "output_type": "error",
          "ename": "NameError",
          "evalue": "ignored",
          "traceback": [
            "\u001b[0;31m---------------------------------------------------------------------------\u001b[0m",
            "\u001b[0;31mNameError\u001b[0m                                 Traceback (most recent call last)",
            "\u001b[0;32m<ipython-input-18-1ec9ac682852>\u001b[0m in \u001b[0;36m<module>\u001b[0;34m()\u001b[0m\n\u001b[0;32m----> 1\u001b[0;31m \u001b[0mplt\u001b[0m\u001b[0;34m.\u001b[0m\u001b[0mscatter\u001b[0m\u001b[0;34m(\u001b[0m\u001b[0mdata\u001b[0m\u001b[0;34m[\u001b[0m\u001b[0;34m'x'\u001b[0m\u001b[0;34m]\u001b[0m\u001b[0;34m,\u001b[0m\u001b[0mdata\u001b[0m\u001b[0;34m[\u001b[0m\u001b[0;34m'y'\u001b[0m\u001b[0;34m]\u001b[0m\u001b[0;34m,\u001b[0m\u001b[0ms\u001b[0m\u001b[0;34m=\u001b[0m\u001b[0mdata\u001b[0m\u001b[0;34m[\u001b[0m\u001b[0;34m'y'\u001b[0m\u001b[0;34m]\u001b[0m\u001b[0;34m,\u001b[0m\u001b[0mc\u001b[0m\u001b[0;34m=\u001b[0m\u001b[0;34m'm'\u001b[0m\u001b[0;34m,\u001b[0m\u001b[0mmarker\u001b[0m\u001b[0;34m=\u001b[0m\u001b[0;34m'x'\u001b[0m\u001b[0;34m,\u001b[0m\u001b[0malpha\u001b[0m\u001b[0;34m=\u001b[0m\u001b[0;36m0.4\u001b[0m\u001b[0;34m)\u001b[0m\u001b[0;34m\u001b[0m\u001b[0;34m\u001b[0m\u001b[0m\n\u001b[0m\u001b[1;32m      2\u001b[0m \u001b[0mplt\u001b[0m\u001b[0;34m.\u001b[0m\u001b[0mscatter\u001b[0m\u001b[0;34m(\u001b[0m\u001b[0;34m[\u001b[0m\u001b[0;36m44\u001b[0m\u001b[0;34m,\u001b[0m\u001b[0;36m42\u001b[0m\u001b[0;34m,\u001b[0m\u001b[0;36m50\u001b[0m\u001b[0;34m]\u001b[0m\u001b[0;34m,\u001b[0m\u001b[0;34m[\u001b[0m\u001b[0;36m15\u001b[0m\u001b[0;34m,\u001b[0m\u001b[0;36m14\u001b[0m\u001b[0;34m,\u001b[0m\u001b[0;36m80\u001b[0m\u001b[0;34m]\u001b[0m\u001b[0;34m,\u001b[0m\u001b[0ms\u001b[0m\u001b[0;34m=\u001b[0m\u001b[0;36m250\u001b[0m\u001b[0;34m,\u001b[0m\u001b[0malpha\u001b[0m\u001b[0;34m=\u001b[0m\u001b[0;36m0.6\u001b[0m\u001b[0;34m)\u001b[0m\u001b[0;34m\u001b[0m\u001b[0;34m\u001b[0m\u001b[0m\n",
            "\u001b[0;31mNameError\u001b[0m: name 'data' is not defined"
          ]
        }
      ]
    },
    {
      "cell_type": "code",
      "metadata": {
        "id": "jjNhMuibMA7i",
        "colab_type": "code",
        "colab": {}
      },
      "source": [
        ""
      ],
      "execution_count": null,
      "outputs": []
    },
    {
      "cell_type": "markdown",
      "metadata": {
        "id": "SwCp0s51Mydu",
        "colab_type": "text"
      },
      "source": [
        "#HW4"
      ]
    },
    {
      "cell_type": "code",
      "metadata": {
        "id": "yqN9_YqLMAmc",
        "colab_type": "code",
        "colab": {
          "base_uri": "https://localhost:8080/",
          "height": 282
        },
        "outputId": "7906b569-8342-43cf-e05b-762705f1bdd0"
      },
      "source": [
        "plt.scatter(data['x'],data['y'],s=data['y'],c='m',marker='x',alpha=0.5)\n",
        "plt.scatter([30,29,30,30,30,30,78,80,82,84,86,88,90,92,90,90,90,90,90,90,90,90,90,90,90,90,90,90,90,],[60,62,65,68,72,75,78,80,82,84,86,88,90,92,92,92,88,84,80,76,72,68,64,62,60,58,56,54,52],s=200,alpha=0.6)"
      ],
      "execution_count": 37,
      "outputs": [
        {
          "output_type": "execute_result",
          "data": {
            "text/plain": [
              "<matplotlib.collections.PathCollection at 0x7f0855c01358>"
            ]
          },
          "metadata": {
            "tags": []
          },
          "execution_count": 37
        },
        {
          "output_type": "display_data",
          "data": {
            "image/png": "[encoded data removed]",
            "text/plain": [
              "<Figure size 432x288 with 1 Axes>"
            ]
          },
          "metadata": {
            "tags": [],
            "needs_background": "light"
          }
        }
      ]
    },
    {
      "cell_type": "markdown",
      "metadata": {
        "id": "Xx3b6N5yPyWq",
        "colab_type": "text"
      },
      "source": [
        "24/08/2563"
      ]
    },
    {
      "cell_type": "code",
      "metadata": {
        "id": "MMwRm3iMM2Er",
        "colab_type": "code",
        "colab": {}
      },
      "source": [
        "plt.plot(data['x'],data['y'],'ro-')\n",
        "plt.scatter(data['x'][0],data['y'][0],s=200,c='k')"
      ],
      "execution_count": null,
      "outputs": []
    },
    {
      "cell_type": "markdown",
      "metadata": {
        "id": "Y1dcD5JNP5Xe",
        "colab_type": "text"
      },
      "source": [
        "วิธีหาจุดเเรกของการเริ่มวาดไดโน"
      ]
    },
    {
      "cell_type": "code",
      "metadata": {
        "id": "3EgSFkKpM2Md",
        "colab_type": "code",
        "colab": {}
      },
      "source": [
        "plt.plot(data['x'],data['y'],'r-')\n",
        "plt.scatter(data['x'],data['y'],s=range(10,len(data['x'])+10))"
      ],
      "execution_count": null,
      "outputs": []
    },
    {
      "cell_type": "markdown",
      "metadata": {
        "id": "ujSJfYLuP-kS",
        "colab_type": "text"
      },
      "source": [
        "วิธีเรียงลำดับจุดเเรกถึงจุดสุดท้าย ตั้งเเต่ขนาดจุดใหญ่ไปจุดเล็ก (ขนาดจุดจะเพิ่มทีละ 1 ) 10,11,12,13..... ไปเรื่อยๆ"
      ]
    },
    {
      "cell_type": "code",
      "metadata": {
        "id": "jqvjyx7ZM2SK",
        "colab_type": "code",
        "colab": {}
      },
      "source": [
        "color_list = []"
      ],
      "execution_count": null,
      "outputs": []
    },
    {
      "cell_type": "markdown",
      "metadata": {
        "id": "W9xnUFd-QBfm",
        "colab_type": "text"
      },
      "source": [
        "การสร้าง list ว่าง (ใส่ [ ] )"
      ]
    },
    {
      "cell_type": "code",
      "metadata": {
        "id": "bwcg7RoGM2WQ",
        "colab_type": "code",
        "colab": {}
      },
      "source": [
        "color_list = []\n",
        "for i in range(len(data['x'])):\n",
        "    color_list.append([0.2,0.1,i/255,0.5])\n",
        "color_list"
      ],
      "execution_count": null,
      "outputs": []
    },
    {
      "cell_type": "markdown",
      "metadata": {
        "id": "rApaMb71QFXw",
        "colab_type": "text"
      },
      "source": [
        "List ที่กำหนดสีให้เเต่ละจุด"
      ]
    },
    {
      "cell_type": "code",
      "metadata": {
        "id": "zmtEmyhjM2ms",
        "colab_type": "code",
        "colab": {}
      },
      "source": [
        "plt.scatter(data['x'],data['y'],s=250,c=color_list)"
      ],
      "execution_count": null,
      "outputs": []
    },
    {
      "cell_type": "markdown",
      "metadata": {
        "id": "fSB4RPmEQKza",
        "colab_type": "text"
      },
      "source": [
        "ดับเบิลคลิก (หรือกด Enter) เพื่อแก้ไข\n",
        "\n",
        "การไล่ความเข้มของสี จุดเเรกถึงสุดท้าย"
      ]
    },
    {
      "cell_type": "markdown",
      "metadata": {
        "id": "4C_LwLOYQMdQ",
        "colab_type": "text"
      },
      "source": [
        "Bar chart"
      ]
    },
    {
      "cell_type": "code",
      "metadata": {
        "id": "q5LF4s24M2rD",
        "colab_type": "code",
        "colab": {}
      },
      "source": [
        "import matplotlib\n",
        "import matplotlib.pyplot as plt\n",
        "import numpy as np"
      ],
      "execution_count": null,
      "outputs": []
    },
    {
      "cell_type": "markdown",
      "metadata": {
        "id": "iiOF-pbNQSae",
        "colab_type": "text"
      },
      "source": [
        "การนำเข้าสิ่งที่จำเป็น"
      ]
    },
    {
      "cell_type": "code",
      "metadata": {
        "id": "omYqx5hoQPDt",
        "colab_type": "code",
        "colab": {}
      },
      "source": [
        "labels = ['G1', 'G2', 'G3', 'G4', 'G5']\n",
        "men_means = [20, 34, 30, 35, 27]\n",
        "women_means = [25, 32, 34, 20, 25]\n"
      ],
      "execution_count": null,
      "outputs": []
    },
    {
      "cell_type": "code",
      "metadata": {
        "id": "yhnlRxCvQPJ5",
        "colab_type": "code",
        "colab": {}
      },
      "source": [
        "x = np.arange(len(labels))  # the label locations\n",
        "width = 0.35  # the width of the bars"
      ],
      "execution_count": null,
      "outputs": []
    },
    {
      "cell_type": "code",
      "metadata": {
        "id": "ShAZsAAhQPVQ",
        "colab_type": "code",
        "colab": {}
      },
      "source": [
        "fig, ax = plt.subplots()\n",
        "rects1 = ax.bar(x - width/2, men_means, width, label='Men')\n",
        "rects2 = ax.bar(x + width/2, women_means, width, label='Women')\n",
        "\n",
        "#การตั้งชื่อเเกน\n",
        "ax.set_ylabel('scores')\n",
        "ax.set_xlabel('GGGGGG')\n",
        "\n",
        "#การตั้งชื่อตาราง\n",
        "ax.set_title('Scores by group and gender')\n",
        "\n",
        "ax.set_xticks(x)\n",
        "\n",
        "ax.set_xticklabels(labels);\n",
        "#การใส่เซมิโครอนคือบอกให้จบ ไม่ต้องปริ้นอะไร\n",
        "\n",
        "ax.legend()\n",
        "#การใส่ชือ่เเท่ง"
      ],
      "execution_count": null,
      "outputs": []
    },
    {
      "cell_type": "code",
      "metadata": {
        "id": "VP9vEBzUQPbk",
        "colab_type": "code",
        "colab": {}
      },
      "source": [
        "plt.bar (x - width/2, men_means, width, label='Men')\n",
        "plt.bar(x + width/2, women_means, width, label='Women')\n",
        "plt.ylabel('Scores')\n",
        "plt.xlabel('pithakeiei')\n",
        "plt.title('Scores by group and gender')\n",
        "plt.legend();"
      ],
      "execution_count": null,
      "outputs": []
    },
    {
      "cell_type": "markdown",
      "metadata": {
        "id": "W42fZiYdQcU8",
        "colab_type": "text"
      },
      "source": [
        "Histogram"
      ]
    },
    {
      "cell_type": "code",
      "metadata": {
        "id": "UdERxeqWQPS6",
        "colab_type": "code",
        "colab": {}
      },
      "source": [
        "x = [12,25,7,7,1,1,1,1,5,5,8,]"
      ],
      "execution_count": null,
      "outputs": []
    },
    {
      "cell_type": "code",
      "metadata": {
        "id": "zoXOGbTdQPQt",
        "colab_type": "code",
        "colab": {}
      },
      "source": [
        "plt.hist(x)"
      ],
      "execution_count": null,
      "outputs": []
    },
    {
      "cell_type": "code",
      "metadata": {
        "id": "CsnnEe__QPOl",
        "colab_type": "code",
        "colab": {}
      },
      "source": [
        ""
      ],
      "execution_count": null,
      "outputs": []
    },
    {
      "cell_type": "code",
      "metadata": {
        "id": "mV3elh98QPHn",
        "colab_type": "code",
        "colab": {}
      },
      "source": [
        ""
      ],
      "execution_count": null,
      "outputs": []
    },
    {
      "cell_type": "code",
      "metadata": {
        "id": "rpgmZsRYM2vr",
        "colab_type": "code",
        "colab": {}
      },
      "source": [
        ""
      ],
      "execution_count": null,
      "outputs": []
    }
  ]
}